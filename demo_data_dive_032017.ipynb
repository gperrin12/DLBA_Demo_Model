{
 "cells": [
  {
   "cell_type": "code",
   "execution_count": 1,
   "metadata": {
    "collapsed": false
   },
   "outputs": [
    {
     "name": "stdout",
     "output_type": "stream",
     "text": [
      "Populating the interactive namespace from numpy and matplotlib\n"
     ]
    },
    {
     "name": "stderr",
     "output_type": "stream",
     "text": [
      "WARNING: pylab import has clobbered these variables: ['compress', 'datetime']\n",
      "`%matplotlib` prevents importing * from pylab and numpy\n"
     ]
    }
   ],
   "source": [
    "import numpy as np\n",
    "import pandas as pd\n",
    "import geopandas as gp\n",
    "import os\n",
    "import subprocess\n",
    "import math\n",
    "import shapely as shp\n",
    "from datetime import datetime\n",
    "from fiona.crs import from_epsg\n",
    "import matplotlib\n",
    "matplotlib.use('TkAgg')\n",
    "import matplotlib.pyplot as plt\n",
    "import re\n",
    "from pandas.tseries.holiday import get_calendar, HolidayCalendarFactory, GoodFriday\n",
    "from datetime import datetime\n",
    "import sklearn\n",
    "from sklearn.model_selection import train_test_split\n",
    "from sklearn.linear_model import LogisticRegression\n",
    "from sklearn.ensemble import RandomForestClassifier as RFC\n",
    "from sklearn.model_selection import GridSearchCV\n",
    "from sklearn.metrics import roc_auc_score as rs\n",
    "from sklearn import svm, datasets\n",
    "from sklearn import metrics\n",
    "from sklearn.metrics import roc_curve\n",
    "from sklearn.metrics import auc\n",
    "\n",
    "from itertools import compress\n",
    "\n",
    "np.random.seed(222)\n",
    "\n",
    "%matplotlib inline\n",
    "%pylab inline"
   ]
  },
  {
   "cell_type": "markdown",
   "metadata": {},
   "source": [
    "### perhaps add a feature that is the number of occupied properties within a buffer of every property\n",
    "\n",
    "## Notes 2-1-17\n",
    "1. add MCM condition to dummy variables ###CHECK\n",
    "2. add any houses that score very high on the occupancy model as homes that should not be demolished ###CHECK\n",
    "3. update DFD fire list\n",
    "4. figure out regularization techniques for logit \"regression\" model ###check\n",
    "5. run accuracy scores / 'mse' ###check"
   ]
  },
  {
   "cell_type": "markdown",
   "metadata": {},
   "source": [
    "## Notes 2-13-17\n",
    "\n",
    "1. add feature that is the number of vacant homes in the census block that a given house belongs to\n",
    "2. alternative  - add feature that is the # of vacant homes in a given buffer from a property\n",
    "3. start writing up documentation \n"
   ]
  },
  {
   "cell_type": "markdown",
   "metadata": {},
   "source": [
    "## Notes 2-15-17\n",
    "\n",
    "1. apply model to full dataset ###CHECK\n",
    "2. add continuous probabilities to model outputs\n",
    "3. write up timesheet by next wednesday\n",
    "4. final paper written by March 2nd?"
   ]
  },
  {
   "cell_type": "markdown",
   "metadata": {},
   "source": [
    "## Notes 2-21-17\n",
    "1. build SVM model? ###CHECK\n",
    "2. I need lat / lon of parcels - Parcel2016.gdb! in the data folder!\n",
    "3. finalize model, export to .csv"
   ]
  },
  {
   "cell_type": "markdown",
   "metadata": {},
   "source": [
    "## Notes 2-22-17\n",
    "1. tune hyperparameters of randomtree ###CHECK\n",
    "2. finalize model, export to .csv ###CHECK\n"
   ]
  },
  {
   "cell_type": "markdown",
   "metadata": {},
   "source": [
    "## notes 3-1-17\n",
    "1. preserve Account_ID #CHECK\n",
    "2. program in classification threshold - do this by friday #CHECK\n",
    "3. build model w/out mcm data and see what happens"
   ]
  },
  {
   "cell_type": "markdown",
   "metadata": {},
   "source": [
    "## Notes 3-16-17\n",
    "1. add histogram with (1%) buckets showing counts of houses ###check"
   ]
  },
  {
   "cell_type": "code",
   "execution_count": 2,
   "metadata": {
    "collapsed": false
   },
   "outputs": [
    {
     "data": {
      "text/plain": [
       "'/Users/geoffperrin/Desktop/DLBA/demo_project/data'"
      ]
     },
     "execution_count": 2,
     "metadata": {},
     "output_type": "execute_result"
    }
   ],
   "source": [
    "wd = os.getcwd()\n",
    "os.chdir('../data')\n",
    "os.getcwd()"
   ]
  },
  {
   "cell_type": "code",
   "execution_count": 3,
   "metadata": {
    "collapsed": false
   },
   "outputs": [
    {
     "name": "stderr",
     "output_type": "stream",
     "text": [
      "/Users/geoffperrin/anaconda2/lib/python2.7/site-packages/IPython/core/interactiveshell.py:2723: DtypeWarning: Columns (26,27) have mixed types. Specify dtype option on import or set low_memory=False.\n",
      "  interactivity=interactivity, compiler=compiler, result=result)\n"
     ]
    }
   ],
   "source": [
    "#read in detroit feature dataset\n",
    "city_df = pd.read_csv('CitywideIndicators_20170221.csv')"
   ]
  },
  {
   "cell_type": "markdown",
   "metadata": {},
   "source": [
    "## build labeled training dataset"
   ]
  },
  {
   "cell_type": "code",
   "execution_count": 4,
   "metadata": {
    "collapsed": false
   },
   "outputs": [
    {
     "data": {
      "text/html": [
       "<div>\n",
       "<table border=\"1\" class=\"dataframe\">\n",
       "  <thead>\n",
       "    <tr style=\"text-align: right;\">\n",
       "      <th></th>\n",
       "      <th>Account_ID</th>\n",
       "      <th>Parcel_ID</th>\n",
       "      <th>Account_Name</th>\n",
       "      <th>Property_Ownership</th>\n",
       "      <th>Property_Class</th>\n",
       "      <th>Program</th>\n",
       "      <th>Current_Status</th>\n",
       "      <th>Non-City_Demo_Program</th>\n",
       "      <th>Current_Status_Date</th>\n",
       "      <th>Neighborhood</th>\n",
       "      <th>...</th>\n",
       "      <th>MCM_Institutional_Use</th>\n",
       "      <th>MCM_Public_Use</th>\n",
       "      <th>MCM_Condition</th>\n",
       "      <th>MCM_Fire_Damage</th>\n",
       "      <th>MCM_Level_of_Fire_Damage</th>\n",
       "      <th>MCM_Boarding_Needed</th>\n",
       "      <th>MCM_Trespass</th>\n",
       "      <th>MCM_Vacant_Lot</th>\n",
       "      <th>MCM_Maintained</th>\n",
       "      <th>MCM_Dumping</th>\n",
       "    </tr>\n",
       "  </thead>\n",
       "  <tbody>\n",
       "    <tr>\n",
       "      <th>1</th>\n",
       "      <td>001j000000Idvvm</td>\n",
       "      <td>22027073.</td>\n",
       "      <td>19759 Littlefield</td>\n",
       "      <td>Non-DLBA Owned</td>\n",
       "      <td>Residential-Structure</td>\n",
       "      <td>NaN</td>\n",
       "      <td>NaN</td>\n",
       "      <td>NaN</td>\n",
       "      <td>NaN</td>\n",
       "      <td>Greenwich</td>\n",
       "      <td>...</td>\n",
       "      <td>NaN</td>\n",
       "      <td>NaN</td>\n",
       "      <td>Good</td>\n",
       "      <td>NaN</td>\n",
       "      <td>NaN</td>\n",
       "      <td>No</td>\n",
       "      <td>NaN</td>\n",
       "      <td>NaN</td>\n",
       "      <td>NaN</td>\n",
       "      <td>No</td>\n",
       "    </tr>\n",
       "    <tr>\n",
       "      <th>2</th>\n",
       "      <td>001j000000Idxml</td>\n",
       "      <td>22054984.</td>\n",
       "      <td>15454 Prevost</td>\n",
       "      <td>Non-DLBA Owned</td>\n",
       "      <td>Residential-Structure</td>\n",
       "      <td>NaN</td>\n",
       "      <td>NaN</td>\n",
       "      <td>NaN</td>\n",
       "      <td>NaN</td>\n",
       "      <td>Crary/St Marys</td>\n",
       "      <td>...</td>\n",
       "      <td>NaN</td>\n",
       "      <td>NaN</td>\n",
       "      <td>Good</td>\n",
       "      <td>NaN</td>\n",
       "      <td>NaN</td>\n",
       "      <td>No</td>\n",
       "      <td>NaN</td>\n",
       "      <td>NaN</td>\n",
       "      <td>NaN</td>\n",
       "      <td>No</td>\n",
       "    </tr>\n",
       "    <tr>\n",
       "      <th>3</th>\n",
       "      <td>001j000000Idzep</td>\n",
       "      <td>21077398.</td>\n",
       "      <td>6150 University Pl</td>\n",
       "      <td>Non-DLBA Owned</td>\n",
       "      <td>Residential-Structure</td>\n",
       "      <td>NaN</td>\n",
       "      <td>NaN</td>\n",
       "      <td>NaN</td>\n",
       "      <td>NaN</td>\n",
       "      <td>Cornerstone Village</td>\n",
       "      <td>...</td>\n",
       "      <td>NaN</td>\n",
       "      <td>NaN</td>\n",
       "      <td>Good</td>\n",
       "      <td>No</td>\n",
       "      <td>NaN</td>\n",
       "      <td>No</td>\n",
       "      <td>NaN</td>\n",
       "      <td>NaN</td>\n",
       "      <td>NaN</td>\n",
       "      <td>No</td>\n",
       "    </tr>\n",
       "    <tr>\n",
       "      <th>4</th>\n",
       "      <td>001j000000Ie1Xa</td>\n",
       "      <td>22059049.</td>\n",
       "      <td>15805 St Marys</td>\n",
       "      <td>Non-DLBA Owned</td>\n",
       "      <td>Residential-Structure</td>\n",
       "      <td>NaN</td>\n",
       "      <td>NaN</td>\n",
       "      <td>NaN</td>\n",
       "      <td>NaN</td>\n",
       "      <td>Crary/St Marys</td>\n",
       "      <td>...</td>\n",
       "      <td>NaN</td>\n",
       "      <td>NaN</td>\n",
       "      <td>Good</td>\n",
       "      <td>NaN</td>\n",
       "      <td>NaN</td>\n",
       "      <td>Yes</td>\n",
       "      <td>NaN</td>\n",
       "      <td>NaN</td>\n",
       "      <td>NaN</td>\n",
       "      <td>No</td>\n",
       "    </tr>\n",
       "    <tr>\n",
       "      <th>5</th>\n",
       "      <td>001j000000Ie3Rg</td>\n",
       "      <td>22062755.</td>\n",
       "      <td>14740 Woodmont</td>\n",
       "      <td>Non-DLBA Owned</td>\n",
       "      <td>Residential-Structure</td>\n",
       "      <td>NaN</td>\n",
       "      <td>NaN</td>\n",
       "      <td>NaN</td>\n",
       "      <td>NaN</td>\n",
       "      <td>Grand River-St Marys</td>\n",
       "      <td>...</td>\n",
       "      <td>NaN</td>\n",
       "      <td>NaN</td>\n",
       "      <td>Good</td>\n",
       "      <td>NaN</td>\n",
       "      <td>NaN</td>\n",
       "      <td>No</td>\n",
       "      <td>NaN</td>\n",
       "      <td>NaN</td>\n",
       "      <td>NaN</td>\n",
       "      <td>No</td>\n",
       "    </tr>\n",
       "  </tbody>\n",
       "</table>\n",
       "<p>5 rows × 37 columns</p>\n",
       "</div>"
      ],
      "text/plain": [
       "        Account_ID  Parcel_ID        Account_Name Property_Ownership  \\\n",
       "1  001j000000Idvvm  22027073.   19759 Littlefield     Non-DLBA Owned   \n",
       "2  001j000000Idxml  22054984.       15454 Prevost     Non-DLBA Owned   \n",
       "3  001j000000Idzep  21077398.  6150 University Pl     Non-DLBA Owned   \n",
       "4  001j000000Ie1Xa  22059049.      15805 St Marys     Non-DLBA Owned   \n",
       "5  001j000000Ie3Rg  22062755.      14740 Woodmont     Non-DLBA Owned   \n",
       "\n",
       "          Property_Class Program Current_Status Non-City_Demo_Program  \\\n",
       "1  Residential-Structure     NaN            NaN                   NaN   \n",
       "2  Residential-Structure     NaN            NaN                   NaN   \n",
       "3  Residential-Structure     NaN            NaN                   NaN   \n",
       "4  Residential-Structure     NaN            NaN                   NaN   \n",
       "5  Residential-Structure     NaN            NaN                   NaN   \n",
       "\n",
       "  Current_Status_Date          Neighborhood     ...      \\\n",
       "1                 NaN             Greenwich     ...       \n",
       "2                 NaN        Crary/St Marys     ...       \n",
       "3                 NaN   Cornerstone Village     ...       \n",
       "4                 NaN        Crary/St Marys     ...       \n",
       "5                 NaN  Grand River-St Marys     ...       \n",
       "\n",
       "   MCM_Institutional_Use MCM_Public_Use MCM_Condition MCM_Fire_Damage  \\\n",
       "1                    NaN            NaN          Good             NaN   \n",
       "2                    NaN            NaN          Good             NaN   \n",
       "3                    NaN            NaN          Good              No   \n",
       "4                    NaN            NaN          Good             NaN   \n",
       "5                    NaN            NaN          Good             NaN   \n",
       "\n",
       "   MCM_Level_of_Fire_Damage MCM_Boarding_Needed MCM_Trespass  MCM_Vacant_Lot  \\\n",
       "1                       NaN                  No          NaN             NaN   \n",
       "2                       NaN                  No          NaN             NaN   \n",
       "3                       NaN                  No          NaN             NaN   \n",
       "4                       NaN                 Yes          NaN             NaN   \n",
       "5                       NaN                  No          NaN             NaN   \n",
       "\n",
       "  MCM_Maintained MCM_Dumping  \n",
       "1            NaN          No  \n",
       "2            NaN          No  \n",
       "3            NaN          No  \n",
       "4            NaN          No  \n",
       "5            NaN          No  \n",
       "\n",
       "[5 rows x 37 columns]"
      ]
     },
     "execution_count": 4,
     "metadata": {},
     "output_type": "execute_result"
    }
   ],
   "source": [
    "#remove lots\n",
    "dlba_df = city_df[city_df['Property Class'] != 'Residential-Lot']\n",
    "\n",
    "#only keep residential lots\n",
    "dlba_df = dlba_df[dlba_df['Property Class'] == 'Residential-Structure']\n",
    "\n",
    "\n",
    "dlba_df_small = dlba_df.rename(columns=lambda x: x.replace(' ', '_'))\n",
    "dlba_df_small.head()"
   ]
  },
  {
   "cell_type": "markdown",
   "metadata": {},
   "source": [
    "## need to fix nans in neighborhood sales median\n",
    "### all the neighborhoods should be in there, but some rows have NaNs!"
   ]
  },
  {
   "cell_type": "code",
   "execution_count": 5,
   "metadata": {
    "collapsed": false
   },
   "outputs": [
    {
     "data": {
      "text/html": [
       "<div>\n",
       "<table border=\"1\" class=\"dataframe\">\n",
       "  <thead>\n",
       "    <tr style=\"text-align: right;\">\n",
       "      <th></th>\n",
       "      <th>Neighborhood</th>\n",
       "      <th>Neighborhood_Sales_Median</th>\n",
       "    </tr>\n",
       "  </thead>\n",
       "  <tbody>\n",
       "    <tr>\n",
       "      <th>0</th>\n",
       "      <td>Airport Sub</td>\n",
       "      <td>0.57</td>\n",
       "    </tr>\n",
       "    <tr>\n",
       "      <th>1</th>\n",
       "      <td>Arden Park</td>\n",
       "      <td>NaN</td>\n",
       "    </tr>\n",
       "    <tr>\n",
       "      <th>2</th>\n",
       "      <td>Aviation Sub</td>\n",
       "      <td>6.24</td>\n",
       "    </tr>\n",
       "    <tr>\n",
       "      <th>3</th>\n",
       "      <td>Bagley</td>\n",
       "      <td>11.68</td>\n",
       "    </tr>\n",
       "    <tr>\n",
       "      <th>4</th>\n",
       "      <td>Barton-McFarland</td>\n",
       "      <td>1.24</td>\n",
       "    </tr>\n",
       "  </tbody>\n",
       "</table>\n",
       "</div>"
      ],
      "text/plain": [
       "       Neighborhood  Neighborhood_Sales_Median\n",
       "0       Airport Sub                       0.57\n",
       "1        Arden Park                        NaN\n",
       "2      Aviation Sub                       6.24\n",
       "3            Bagley                      11.68\n",
       "4  Barton-McFarland                       1.24"
      ]
     },
     "execution_count": 5,
     "metadata": {},
     "output_type": "execute_result"
    }
   ],
   "source": [
    "dlba_df_neighborhood = dlba_df_small[['Neighborhood', 'Neighborhood_Sales_Median']]\n",
    "dlba_df_neighborhood.groupby(['Neighborhood'], as_index=False).mean().head()"
   ]
  },
  {
   "cell_type": "code",
   "execution_count": 6,
   "metadata": {
    "collapsed": false
   },
   "outputs": [
    {
     "data": {
      "text/html": [
       "<div>\n",
       "<table border=\"1\" class=\"dataframe\">\n",
       "  <thead>\n",
       "    <tr style=\"text-align: right;\">\n",
       "      <th></th>\n",
       "      <th>Parcel_ID</th>\n",
       "      <th>dist_to_school</th>\n",
       "    </tr>\n",
       "  </thead>\n",
       "  <tbody>\n",
       "    <tr>\n",
       "      <th>0</th>\n",
       "      <td>16006256.</td>\n",
       "      <td>2196.731029</td>\n",
       "    </tr>\n",
       "    <tr>\n",
       "      <th>1</th>\n",
       "      <td>04000103-4</td>\n",
       "      <td>2375.448135</td>\n",
       "    </tr>\n",
       "    <tr>\n",
       "      <th>2</th>\n",
       "      <td>04003341.</td>\n",
       "      <td>2442.534185</td>\n",
       "    </tr>\n",
       "    <tr>\n",
       "      <th>3</th>\n",
       "      <td>04003339-40</td>\n",
       "      <td>2510.715691</td>\n",
       "    </tr>\n",
       "    <tr>\n",
       "      <th>4</th>\n",
       "      <td>04000119.</td>\n",
       "      <td>2341.253487</td>\n",
       "    </tr>\n",
       "  </tbody>\n",
       "</table>\n",
       "</div>"
      ],
      "text/plain": [
       "     Parcel_ID  dist_to_school\n",
       "0    16006256.     2196.731029\n",
       "1   04000103-4     2375.448135\n",
       "2    04003341.     2442.534185\n",
       "3  04003339-40     2510.715691\n",
       "4    04000119.     2341.253487"
      ]
     },
     "execution_count": 6,
     "metadata": {},
     "output_type": "execute_result"
    }
   ],
   "source": [
    "#read in detroit parcel distance to school df\n",
    "school_df = pd.read_csv('DistanceToSchool_20170123.csv')\n",
    "school_df_small = school_df[[\"PARCELNO\", \"DistanceToSchool_FT\"]]\n",
    "school_df_small.columns = ['Parcel_ID', 'dist_to_school']\n",
    "school_df_small.head()"
   ]
  },
  {
   "cell_type": "code",
   "execution_count": 7,
   "metadata": {
    "collapsed": false
   },
   "outputs": [
    {
     "data": {
      "text/plain": [
       "233839"
      ]
     },
     "execution_count": 7,
     "metadata": {},
     "output_type": "execute_result"
    }
   ],
   "source": [
    "#merge distance to school to city feature df\n",
    "dlba_school_df = dlba_df_small.merge(school_df_small, on='Parcel_ID')\n",
    "len(dlba_school_df)"
   ]
  },
  {
   "cell_type": "code",
   "execution_count": 8,
   "metadata": {
    "collapsed": false,
    "scrolled": false
   },
   "outputs": [],
   "source": [
    "#code dummy variables\n",
    "\n",
    "#mcm condition dummies\n",
    "dlba_school_df['mcm_good_dummy'] = 0\n",
    "dlba_school_df['mcm_good_dummy'] = [1 if i=='Good' else 0 for i in dlba_school_df['MCM_Condition']]\n",
    "\n",
    "dlba_school_df['mcm_fair_dummy'] = 0\n",
    "dlba_school_df['mcm_fair_dummy'] = [1 if i=='Fair' else 0 for i in dlba_school_df['MCM_Condition']]\n",
    "\n",
    "dlba_school_df['mcm_poor_dummy'] = 0\n",
    "dlba_school_df['mcm_poor_dummy'] = [1 if (i=='Poor' or i=='poor, fair') else 0 for i in dlba_school_df['MCM_Condition']]\n",
    "\n",
    "dlba_school_df['mcm_demo_dummy'] = 0\n",
    "dlba_school_df['mcm_demo_dummy'] = [1 if (i=='Suggest Demolition' or i=='suggest demolition, poor') else 0 for i in dlba_school_df['MCM_Condition']]\n",
    "\n",
    "dlba_school_df['mcm_good_dummy'] = 0\n",
    "dlba_school_df['mcm_good_dummy'] = [1 if i=='Good' else 0 for i in dlba_school_df['MCM_Condition']]\n",
    "\n",
    "dlba_school_df['dng_dummy'] = 0\n",
    "dlba_school_df['dng_dummy'] = [0 if pd.isnull(i) else 1 for i in dlba_school_df['DNG_Number']]\n",
    "\n",
    "dlba_school_df['fire_dummy'] = 0\n",
    "dlba_school_df['fire_dummy'] = [0 if pd.isnull(i) else 1 for i in dlba_school_df['DFD_Fire:_Occurrence_Date']]\n",
    "\n",
    "dlba_school_df['usps_vacant_dummy'] = 0\n",
    "dlba_school_df['usps_vacant_dummy'] = [0 if pd.isnull(i) else 1 for i in dlba_school_df['USPS:_Vacancy_Indicated']]\n",
    "\n",
    "dlba_school_df['foreclosed_dummy'] = 0\n",
    "dlba_school_df['foreclosed_dummy'] = [0 if pd.isnull(i) else 1 for i in dlba_school_df['Foreclosure_Year']]\n",
    "\n",
    "#change to current date\n",
    "dlba_school_df['foreclosure_lag'] = 0\n",
    "dlba_school_df['foreclosure_lag'] = [0 if pd.isnull(i) else (2017 - i) for i in dlba_school_df['Foreclosure_Year']]\n",
    "\n",
    "dlba_school_df['boarding_needed_dummy'] = 0\n",
    "dlba_school_df['boarding_needed_dummy'] = [0 if (pd.isnull(i) or i == 'No') else 1 for i in dlba_school_df['MCM_Boarding_Needed']]\n",
    "\n",
    "dlba_school_df['dumping_dummy'] = 0\n",
    "dlba_school_df['dumping_dummy'] = [0 if (pd.isnull(i) or i == 'No') else 1 for i in dlba_school_df['MCM_Dumping']]\n",
    "\n",
    "#replace NaNs with zeros\n",
    "dlba_school_df['Occupancy_Model:_Probability_Pct'] = [0 if pd.isnull(i) else i for i in dlba_school_df['Occupancy_Model:_Probability_Pct']]\n",
    "\n",
    "#remove NaNs for Neighborhood_Sales_Median\n",
    "#in final roll out I need to improve this!!!\n",
    "dlba_school_df = dlba_school_df[~pd.isnull(dlba_school_df['Neighborhood_Sales_Median'])]\n",
    "\n",
    "\n"
   ]
  },
  {
   "cell_type": "code",
   "execution_count": 9,
   "metadata": {
    "collapsed": false
   },
   "outputs": [],
   "source": [
    "# create a full copy of the data in order to apply model to it at the end\n",
    "dlba_school_df_full = dlba_school_df.copy()\n",
    "\n",
    "dlba_school_df_full_small = dlba_school_df_full.drop(['Property_Ownership', 'Property_Class', 'Program', \\\n",
    "                                            'Current_Status', 'Current_Status_Date', 'Neighborhood', 'DNG_Number', \\\n",
    "                                            'WCT_Foreclosure_Status', \\\n",
    "                                            'MCM_Blext_Created_At', 'MCM_Structure', 'MCM_Occupancy',  'MCM_Use',\\\n",
    "                                           'MCM_Units', 'MCM_Residence_Type', 'MCM_Commercial_Use', 'MCM_Industrial_Use',\\\n",
    "                                           'MCM_Institutional_Use', 'MCM_Public_Use', 'MCM_Level_of_Fire_Damage', \\\n",
    "                                            'MCM_Trespass', 'MCM_Vacant_Lot', 'MCM_Maintained', 'DFD_Fire:_Occurrence_Date',\\\n",
    "                                           'USPS:_Vacancy_Indicated', 'Foreclosure_Year', 'MCM_Fire_Damage',\\\n",
    "                                           'USPS:_Last_Update', 'Occupancy_Model:_Last_Update', 'MCM_Boarding_Needed',\\\n",
    "                                           'MCM_Dumping', 'MCM_Condition'], 1)\n",
    "\n",
    "dlba_school_df_full_small = dlba_school_df_full_small.rename(columns={'Occupancy_Model:_Probability_Pct': 'occupancy_model_pct'})\n",
    "dlba_school_df_full_small = dlba_school_df_full_small[['Account_ID', 'Parcel_ID', 'Account_Name', 'Neighborhood_Sales_Median',\\\n",
    "                                            'occupancy_model_pct', 'dist_to_school',\\\n",
    "                                            'fire_dummy', 'usps_vacant_dummy', 'foreclosed_dummy',\\\n",
    "                                            'foreclosure_lag', 'boarding_needed_dummy', 'dumping_dummy', 'dng_dummy',\\\n",
    "                                            'mcm_good_dummy', 'mcm_fair_dummy', 'mcm_demo_dummy']]\n"
   ]
  },
  {
   "cell_type": "code",
   "execution_count": 10,
   "metadata": {
    "collapsed": false
   },
   "outputs": [
    {
     "name": "stderr",
     "output_type": "stream",
     "text": [
      "/Users/geoffperrin/anaconda2/lib/python2.7/site-packages/ipykernel/__main__.py:37: SettingWithCopyWarning: \n",
      "A value is trying to be set on a copy of a slice from a DataFrame\n",
      "\n",
      "See the caveats in the documentation: http://pandas.pydata.org/pandas-docs/stable/indexing.html#indexing-view-versus-copy\n"
     ]
    }
   ],
   "source": [
    "#need to only apply demo decision to above occupancy threshold & dlba owned properties\n",
    "#only keep DLBA Owned properties for the training data OR with a very high occupancy score\n",
    "\n",
    "no_demo_occupancy_thresh = 95.0\n",
    "dlba_school_df = dlba_school_df[(dlba_school_df['Property_Ownership'] == 'DLBA Owned') | \\\n",
    "                  (dlba_school_df['Occupancy_Model:_Probability_Pct'] > no_demo_occupancy_thresh)]\n",
    "\n",
    "#code up demo decision yes / no\n",
    "demo_decision_dict = {'Demo Awaiting Funding': 1,\n",
    "        'Demo Pipeline': 1,\n",
    "        'Demo Contracted': 1,\n",
    "        'Demo Review': 1,\n",
    "        'Demolished': 999,\n",
    "        'Construction Complete': 0,\n",
    "        'Occupied': 0,\n",
    "        'Sold': 0,\n",
    "        'Institutional Partner Coordination': 999,\n",
    "        'For Sale': 0,\n",
    "        'Sales Review': 0,\n",
    "        'Sales Pipeline': 0,\n",
    "        'Vacant Land': 999,\n",
    "        'Sales Hold': 0,\n",
    "        'Under Construction': 999,\n",
    "        'Lease/ROE/TLA': 999,\n",
    "        'Warehouse': 999,\n",
    "        'NPOC Isolation - Do not move!': 999,\n",
    "        'NSP Quarantine': 999,\n",
    "        'Reconveyance Complete': 999,\n",
    "        'Title Problem Identified': 999,\n",
    "        'DJ Quarantine': 999,\n",
    "        'PDD Quarantine': 999,\n",
    "        'Intake Review': 999}\n",
    "\n",
    "#if occupancy score > threshold, then no demo\n",
    "dlba_school_df['Current_Status']\\\n",
    "[dlba_school_df['Occupancy_Model:_Probability_Pct'] > no_demo_occupancy_thresh] = 'Occupied'\n",
    "\n",
    "#if MLB demo, then yes demo\n",
    "dlba_school_df['Current_Status']\\\n",
    "[dlba_school_df['Non-City_Demo_Program'] =='MLB Demo'] = 'Demo Pipeline'\n",
    "\n",
    "dlba_school_df['demo_decision'] = 0\n",
    "dlba_school_df['demo_decision'] = [demo_decision_dict[i] for i in dlba_school_df[\"Current_Status\"]]\n",
    "\n",
    "\n",
    "\n",
    "dlba_school_df = dlba_school_df[dlba_school_df['demo_decision'] != 999]"
   ]
  },
  {
   "cell_type": "code",
   "execution_count": 11,
   "metadata": {
    "collapsed": false
   },
   "outputs": [],
   "source": [
    "# only keep DLBA Owned properties for the training data OR with a very high occupancy score: we only want\n",
    "# labelled data in the training dataset\n",
    "\n",
    "dlba_school_df = dlba_school_df[(dlba_school_df['Property_Ownership'] == 'DLBA Owned') | \\\n",
    "                  (dlba_school_df['Occupancy_Model:_Probability_Pct'] > no_demo_occupancy_thresh)]\n",
    "\n",
    "dlba_school_df_small = dlba_school_df.drop(['Account_ID', 'Property_Ownership', 'Property_Class', 'Program', \\\n",
    "                                            'Current_Status', 'Current_Status_Date', 'Neighborhood', 'DNG_Number', \\\n",
    "                                            'WCT_Foreclosure_Status', \\\n",
    "                                            'MCM_Blext_Created_At', 'MCM_Structure', 'MCM_Occupancy',  'MCM_Use',\\\n",
    "                                           'MCM_Units', 'MCM_Residence_Type', 'MCM_Commercial_Use', 'MCM_Industrial_Use',\\\n",
    "                                           'MCM_Institutional_Use', 'MCM_Public_Use', 'MCM_Level_of_Fire_Damage', \\\n",
    "                                            'MCM_Trespass', 'MCM_Vacant_Lot', 'MCM_Maintained', 'DFD_Fire:_Occurrence_Date',\\\n",
    "                                           'USPS:_Vacancy_Indicated', 'Foreclosure_Year', 'MCM_Fire_Damage',\\\n",
    "                                           'USPS:_Last_Update', 'Occupancy_Model:_Last_Update', 'MCM_Boarding_Needed',\\\n",
    "                                           'MCM_Dumping', 'MCM_Condition'], 1)\n",
    "\n",
    "dlba_school_df_small = dlba_school_df_small.rename(columns={'Occupancy_Model:_Probability_Pct': 'occupancy_model_pct'})\n",
    "dlba_school_df_small = dlba_school_df_small[['Parcel_ID', 'Account_Name', 'demo_decision', 'Neighborhood_Sales_Median',\\\n",
    "                                            'occupancy_model_pct', 'dist_to_school',\\\n",
    "                                            'fire_dummy', 'usps_vacant_dummy', 'foreclosed_dummy',\\\n",
    "                                            'foreclosure_lag', 'boarding_needed_dummy', 'dumping_dummy', 'dng_dummy',\\\n",
    "                                            'mcm_good_dummy', 'mcm_fair_dummy', 'mcm_demo_dummy']]\n"
   ]
  },
  {
   "cell_type": "markdown",
   "metadata": {},
   "source": [
    "## Build Logit Classification Model"
   ]
  },
  {
   "cell_type": "code",
   "execution_count": 12,
   "metadata": {
    "collapsed": false
   },
   "outputs": [
    {
     "data": {
      "text/plain": [
       "LogisticRegression(C=1, class_weight=None, dual=False, fit_intercept=True,\n",
       "          intercept_scaling=1, max_iter=100, multi_class='ovr', n_jobs=1,\n",
       "          penalty='l2', random_state=None, solver='liblinear', tol=0.0001,\n",
       "          verbose=0, warm_start=False)"
      ]
     },
     "execution_count": 12,
     "metadata": {},
     "output_type": "execute_result"
    }
   ],
   "source": [
    "y = dlba_school_df_small.demo_decision\n",
    "X = dlba_school_df_small.iloc[:,3:]\n",
    "'''\n",
    "let's try this without the crossvalidation loop first\n",
    "\n",
    "\n",
    "for i in range(10):\n",
    "    X_train, X_test, y_train, y_test = train_test_split(X, y, test_size = 0.3, random_state = i)\n",
    "    \n",
    "    #learn logistic regression over the training sample\n",
    "    logit = LogisticRegression(C=1)\n",
    "    logit.fit(X_train, y_train)\n",
    "    # C here controls the regularization strength--which will be discussed in Bayesian session\n",
    "    # For now just keep in mind that setting a high value will make the regularization ineffective\n",
    "\n",
    "    #apply to the validation sample\n",
    "    labelPred = logit.predict(X_test)\n",
    "    #labelPred = logPred > 0.5\n",
    "    labelActual = y_test\n",
    "    \n",
    "'''    \n",
    "\n",
    "\n",
    "X_train, X_test, y_train, y_test = train_test_split(X, y, test_size = 0.3, random_state = 123)\n",
    "    \n",
    "#learn logistic regression over the training sample\n",
    "logit = LogisticRegression(C=1)\n",
    "logit.fit(X_train, y_train)\n",
    "# C here controls the regularization strength--which will be discussed in Bayesian session\n",
    "# For now just keep in mind that setting a high value will make the regularization ineffective"
   ]
  },
  {
   "cell_type": "markdown",
   "metadata": {},
   "source": [
    "### logit model - Accuracy"
   ]
  },
  {
   "cell_type": "code",
   "execution_count": 13,
   "metadata": {
    "collapsed": false
   },
   "outputs": [],
   "source": [
    "#apply to the validation sample\n",
    "labelPred = logit.predict(X_test)\n",
    "labelActual = y_test\n",
    "X_test_copy = X_test.copy()\n",
    "X_test_copy['logit_predict'] = logit.predict(X_test)"
   ]
  },
  {
   "cell_type": "code",
   "execution_count": 14,
   "metadata": {
    "collapsed": false
   },
   "outputs": [
    {
     "name": "stdout",
     "output_type": "stream",
     "text": [
      "Precision = 80.74%\n",
      "Accuracy = 96.73%\n",
      "Recall = 76.89%\n"
     ]
    }
   ],
   "source": [
    "#compute TP,FP,FN,TN for the above classification\n",
    "TP = sum((labelPred==1)&(labelActual==1))\n",
    "FP = sum((labelPred==1)&(labelActual==0))\n",
    "FN = sum((labelPred==0)&(labelActual==1))\n",
    "TN = sum((labelPred==0)&(labelActual==0))\n",
    "\n",
    "#compute precision, accuracy and recall\n",
    "Acc = 100.0 * (TP+TN)/(TP+TN+FP+FN)\n",
    "Rec = 100.0 * TP/(TP+FN)\n",
    "Prec= 100.0 * TP/(TP+FP)\n",
    "print('Precision = %.2f%%\\nAccuracy = %.2f%%\\nRecall = %.2f%%'%(Prec,Acc,Rec))"
   ]
  },
  {
   "cell_type": "markdown",
   "metadata": {},
   "source": [
    "#### look at auc"
   ]
  },
  {
   "cell_type": "code",
   "execution_count": 15,
   "metadata": {
    "collapsed": false
   },
   "outputs": [
    {
     "name": "stdout",
     "output_type": "stream",
     "text": [
      "0.989015030517\n"
     ]
    }
   ],
   "source": [
    "res=[]\n",
    "for i in range(1,20):\n",
    "    X_train, X_test, y_train, y_test = train_test_split(X, y, test_size = 0.3, random_state = i)\n",
    "    pred=logit.predict_proba(X_test)[:,1]\n",
    "    res.append(rs(np.array(y_test.apply(int)),pred))\n",
    "    #print rs(np.array(y_test.apply(int)),pred)\n",
    "print np.mean(res)"
   ]
  },
  {
   "cell_type": "markdown",
   "metadata": {},
   "source": [
    "## Build Random Forest Classification Model"
   ]
  },
  {
   "cell_type": "code",
   "execution_count": 16,
   "metadata": {
    "collapsed": false
   },
   "outputs": [
    {
     "data": {
      "text/plain": [
       "GridSearchCV(cv=None, error_score='raise',\n",
       "       estimator=RandomForestClassifier(bootstrap=True, class_weight=None, criterion='gini',\n",
       "            max_depth=None, max_features='auto', max_leaf_nodes=None,\n",
       "            min_impurity_split=1e-07, min_samples_leaf=1,\n",
       "            min_samples_split=2, min_weight_fraction_leaf=0.0,\n",
       "            n_estimators=10, n_jobs=1, oob_score=False, random_state=None,\n",
       "            verbose=0, warm_start=False),\n",
       "       fit_params={}, iid=True, n_jobs=1,\n",
       "       param_grid={'n_estimators': array([  1, 101, 201, 301, 401, 501]), 'max_depth': [3, 5, 7, 9]},\n",
       "       pre_dispatch='2*n_jobs', refit=True, return_train_score=True,\n",
       "       scoring=None, verbose=0)"
      ]
     },
     "execution_count": 16,
     "metadata": {},
     "output_type": "execute_result"
    }
   ],
   "source": [
    "r_tree = RFC()\n",
    "param_grid = {'max_depth': [3, 5, 7, 9], 'n_estimators': np.arange(1,502,100)}\n",
    "r_tree_tuned = GridSearchCV(r_tree, param_grid)\n",
    "#r_tree_optimum = RFC(r_tree_tuned.best_estimator_)\n",
    "r_tree_tuned.fit(X_train, y_train)"
   ]
  },
  {
   "cell_type": "code",
   "execution_count": 17,
   "metadata": {
    "collapsed": false
   },
   "outputs": [],
   "source": [
    "feature_importance = r_tree_tuned.best_estimator_.fit(X_train, y_train).feature_importances_"
   ]
  },
  {
   "cell_type": "code",
   "execution_count": 18,
   "metadata": {
    "collapsed": false
   },
   "outputs": [
    {
     "data": {
      "text/html": [
       "<div>\n",
       "<table border=\"1\" class=\"dataframe\">\n",
       "  <thead>\n",
       "    <tr style=\"text-align: right;\">\n",
       "      <th></th>\n",
       "      <th>variables</th>\n",
       "      <th>importance</th>\n",
       "    </tr>\n",
       "  </thead>\n",
       "  <tbody>\n",
       "    <tr>\n",
       "      <th>1</th>\n",
       "      <td>occupancy_model_pct</td>\n",
       "      <td>0.349819</td>\n",
       "    </tr>\n",
       "    <tr>\n",
       "      <th>9</th>\n",
       "      <td>dng_dummy</td>\n",
       "      <td>0.174154</td>\n",
       "    </tr>\n",
       "    <tr>\n",
       "      <th>7</th>\n",
       "      <td>boarding_needed_dummy</td>\n",
       "      <td>0.120547</td>\n",
       "    </tr>\n",
       "    <tr>\n",
       "      <th>12</th>\n",
       "      <td>mcm_demo_dummy</td>\n",
       "      <td>0.120015</td>\n",
       "    </tr>\n",
       "    <tr>\n",
       "      <th>10</th>\n",
       "      <td>mcm_good_dummy</td>\n",
       "      <td>0.0604024</td>\n",
       "    </tr>\n",
       "    <tr>\n",
       "      <th>11</th>\n",
       "      <td>mcm_fair_dummy</td>\n",
       "      <td>0.0431955</td>\n",
       "    </tr>\n",
       "    <tr>\n",
       "      <th>8</th>\n",
       "      <td>dumping_dummy</td>\n",
       "      <td>0.0421793</td>\n",
       "    </tr>\n",
       "    <tr>\n",
       "      <th>6</th>\n",
       "      <td>foreclosure_lag</td>\n",
       "      <td>0.0303107</td>\n",
       "    </tr>\n",
       "    <tr>\n",
       "      <th>5</th>\n",
       "      <td>foreclosed_dummy</td>\n",
       "      <td>0.0236433</td>\n",
       "    </tr>\n",
       "    <tr>\n",
       "      <th>0</th>\n",
       "      <td>Neighborhood_Sales_Median</td>\n",
       "      <td>0.0179195</td>\n",
       "    </tr>\n",
       "    <tr>\n",
       "      <th>2</th>\n",
       "      <td>dist_to_school</td>\n",
       "      <td>0.0125628</td>\n",
       "    </tr>\n",
       "    <tr>\n",
       "      <th>3</th>\n",
       "      <td>fire_dummy</td>\n",
       "      <td>0.00334159</td>\n",
       "    </tr>\n",
       "    <tr>\n",
       "      <th>4</th>\n",
       "      <td>usps_vacant_dummy</td>\n",
       "      <td>0.00191028</td>\n",
       "    </tr>\n",
       "  </tbody>\n",
       "</table>\n",
       "</div>"
      ],
      "text/plain": [
       "                    variables  importance\n",
       "1         occupancy_model_pct    0.349819\n",
       "9                   dng_dummy    0.174154\n",
       "7       boarding_needed_dummy    0.120547\n",
       "12             mcm_demo_dummy    0.120015\n",
       "10             mcm_good_dummy   0.0604024\n",
       "11             mcm_fair_dummy   0.0431955\n",
       "8               dumping_dummy   0.0421793\n",
       "6             foreclosure_lag   0.0303107\n",
       "5            foreclosed_dummy   0.0236433\n",
       "0   Neighborhood_Sales_Median   0.0179195\n",
       "2              dist_to_school   0.0125628\n",
       "3                  fire_dummy  0.00334159\n",
       "4           usps_vacant_dummy  0.00191028"
      ]
     },
     "execution_count": 18,
     "metadata": {},
     "output_type": "execute_result"
    }
   ],
   "source": [
    "Feature_importance_df = pd.DataFrame([list(X_train.columns), list(feature_importance)]).T\n",
    "Feature_importance_df.columns = [\"variables\", \"importance\"]\n",
    "Feature_importance_df.sort_values(by=\"importance\", ascending=False)"
   ]
  },
  {
   "cell_type": "markdown",
   "metadata": {},
   "source": [
    "### random forest model - Accuracy"
   ]
  },
  {
   "cell_type": "code",
   "execution_count": 19,
   "metadata": {
    "collapsed": false
   },
   "outputs": [
    {
     "data": {
      "text/plain": [
       "3459"
      ]
     },
     "execution_count": 19,
     "metadata": {},
     "output_type": "execute_result"
    }
   ],
   "source": [
    "#apply to the validation sample\n",
    "labelPred = r_tree_tuned.predict(X_test)\n",
    "labelPred_cont = r_tree_tuned.predict_proba(X_test)[:,1]\n",
    "labelActual = y_test\n",
    "X_test_copy['r_tree_predict'] = r_tree_tuned.predict(X_test)\n",
    "X_test_copy['labelActual'] = y_test\n",
    "sum(labelPred)"
   ]
  },
  {
   "cell_type": "markdown",
   "metadata": {},
   "source": [
    "#### look at precision / accuracy / recall"
   ]
  },
  {
   "cell_type": "code",
   "execution_count": 20,
   "metadata": {
    "collapsed": false
   },
   "outputs": [
    {
     "name": "stdout",
     "output_type": "stream",
     "text": [
      "Precision = 81.41%\n",
      "Accuracy = 96.72%\n",
      "Recall = 78.35%\n"
     ]
    }
   ],
   "source": [
    "#compute TP,FP,FN,TN for the above classification\n",
    "TP = sum((labelPred==1)&(labelActual==1))\n",
    "FP = sum((labelPred==1)&(labelActual==0))\n",
    "FN = sum((labelPred==0)&(labelActual==1))\n",
    "TN = sum((labelPred==0)&(labelActual==0))\n",
    "\n",
    "#compute precision, accuracy and recall\n",
    "Prec= 100.0 * TP/(TP+FP)\n",
    "Acc = 100.0 * (TP+TN)/(TP+TN+FP+FN)\n",
    "Rec = 100.0 * TP/(TP+FN)\n",
    "print('Precision = %.2f%%\\nAccuracy = %.2f%%\\nRecall = %.2f%%'%(Prec,Acc,Rec))"
   ]
  },
  {
   "cell_type": "markdown",
   "metadata": {},
   "source": [
    "#### look at auc"
   ]
  },
  {
   "cell_type": "code",
   "execution_count": 21,
   "metadata": {
    "collapsed": false
   },
   "outputs": [
    {
     "name": "stdout",
     "output_type": "stream",
     "text": [
      "0.991395341422\n"
     ]
    }
   ],
   "source": [
    "res=[]\n",
    "for i in range(1,20):\n",
    "    X_train, X_test, y_train, y_test = train_test_split(X, y, test_size = 0.3, random_state = i)\n",
    "    pred=r_tree_tuned.predict_proba(X_test)[:,1]\n",
    "    res.append(rs(np.array(y_test.apply(int)),pred))\n",
    "print np.mean(res)"
   ]
  },
  {
   "cell_type": "markdown",
   "metadata": {
    "collapsed": true
   },
   "source": [
    "### Determine optimal threshold for maximizing true positives and minimizing false negatives"
   ]
  },
  {
   "cell_type": "code",
   "execution_count": 22,
   "metadata": {
    "collapsed": false
   },
   "outputs": [
    {
     "name": "stderr",
     "output_type": "stream",
     "text": [
      "/Users/geoffperrin/anaconda2/lib/python2.7/site-packages/ipykernel/__main__.py:9: FutureWarning: sort(columns=....) is deprecated, use sort_values(by=.....)\n"
     ]
    },
    {
     "name": "stdout",
     "output_type": "stream",
     "text": [
      "0.826501695715\n"
     ]
    }
   ],
   "source": [
    "#do a 20 fold split and take average cutoff point of all splits\n",
    "cutoff_list = []\n",
    "for i in range(1,20):\n",
    "    X_train, X_test, y_train, y_test = train_test_split(X, y, test_size = 0.3, random_state = i)\n",
    "    pred=r_tree_tuned.predict_proba(X_test)[:,1]\n",
    "    fpr, tpr, thresholds = metrics.roc_curve(y_test, pred)\n",
    "    threshold_df = pd.DataFrame({'fpr':fpr, 'tpr':tpr, 'thresholds':thresholds})\n",
    "    threshold_df['tpr_plus_one_minus_fpr'] = threshold_df.tpr + 100*(1-threshold_df.fpr)\n",
    "    threshold_df = threshold_df.sort(['tpr_plus_one_minus_fpr'], ascending=False)\n",
    "    threshold_df = threshold_df.reset_index()\n",
    "    cutoff_list.append(threshold_df.thresholds[0])\n",
    "\n",
    "avg_cutoff = np.mean(cutoff_list)\n",
    "print avg_cutoff"
   ]
  },
  {
   "cell_type": "code",
   "execution_count": 23,
   "metadata": {
    "collapsed": false
   },
   "outputs": [
    {
     "name": "stderr",
     "output_type": "stream",
     "text": [
      "/Users/geoffperrin/anaconda2/lib/python2.7/site-packages/ipykernel/__main__.py:7: FutureWarning: sort(columns=....) is deprecated, use sort_values(by=.....)\n"
     ]
    }
   ],
   "source": [
    "### sample tpr / fpr rate for a given test / train split\n",
    "X_train, X_test, y_train, y_test = train_test_split(X, y, test_size = 0.3, random_state = i)\n",
    "pred=r_tree_tuned.predict_proba(X_test)[:,1]\n",
    "fpr, tpr, thresholds = metrics.roc_curve(y_test, pred)\n",
    "threshold_df = pd.DataFrame({'fpr':fpr, 'tpr':tpr, 'thresholds':thresholds})\n",
    "threshold_df['value_to_maximize'] = threshold_df.tpr + 10*(1-threshold_df.fpr)\n",
    "threshold_df = threshold_df.sort(['value_to_maximize'], ascending=False)\n",
    "roc_auc = rs(np.array(y_test.apply(int)),pred)\n",
    "#threshold_df = threshold_df.reset_index()"
   ]
  },
  {
   "cell_type": "code",
   "execution_count": 24,
   "metadata": {
    "collapsed": false
   },
   "outputs": [
    {
     "data": {
      "image/png": "[encoded data removed]",
      "text/plain": [
       "<matplotlib.figure.Figure at 0x11b399550>"
      ]
     },
     "metadata": {},
     "output_type": "display_data"
    }
   ],
   "source": [
    "#Plot of a ROC curve for a specific class\n",
    "plt.figure()\n",
    "lw = 2\n",
    "plt.plot(threshold_df['fpr'], threshold_df['tpr'], 'r.',\n",
    "         label='ROC curve (area = %0.2f)' % roc_auc)\n",
    "plt.plot([0, 1], [0, 1], color='navy', lw=lw, linestyle='--')\n",
    "plt.xlim([0.0, 1.0])\n",
    "plt.ylim([0.0, 1.05])\n",
    "plt.xlabel('False Positive Rate')\n",
    "plt.ylabel('True Positive Rate')\n",
    "plt.title('Receiver Operating Characteristic (ROC)')\n",
    "plt.legend(loc=\"lower right\")\n",
    "plt.show()"
   ]
  },
  {
   "cell_type": "code",
   "execution_count": 25,
   "metadata": {
    "collapsed": false
   },
   "outputs": [],
   "source": [
    "labelPred_w_threshold = labelPred_cont.copy()\n",
    "labelPred_w_threshold[labelPred_w_threshold >= avg_cutoff] = 1\n",
    "labelPred_w_threshold[labelPred_w_threshold < avg_cutoff] = 0"
   ]
  },
  {
   "cell_type": "code",
   "execution_count": 26,
   "metadata": {
    "collapsed": false
   },
   "outputs": [
    {
     "name": "stdout",
     "output_type": "stream",
     "text": [
      "Precision = 95.67%\n",
      "Accuracy = 95.06%\n",
      "Recall = 42.43%\n"
     ]
    }
   ],
   "source": [
    "#compute TP,FP,FN,TN for the above classification\n",
    "TP = sum((labelPred_w_threshold==1)&(labelActual==1))\n",
    "FP = sum((labelPred_w_threshold==1)&(labelActual==0))\n",
    "FN = sum((labelPred_w_threshold==0)&(labelActual==1))\n",
    "TN = sum((labelPred_w_threshold==0)&(labelActual==0))\n",
    "\n",
    "#compute precision, accuracy and recall\n",
    "Prec= 100.0 * TP/(TP+FP)\n",
    "Acc = 100.0 * (TP+TN)/(TP+TN+FP+FN)\n",
    "Rec = 100.0 * TP/(TP+FN)\n",
    "print('Precision = %.2f%%\\nAccuracy = %.2f%%\\nRecall = %.2f%%'%(Prec,Acc,Rec))"
   ]
  },
  {
   "cell_type": "code",
   "execution_count": 27,
   "metadata": {
    "collapsed": false
   },
   "outputs": [
    {
     "name": "stdout",
     "output_type": "stream",
     "text": [
      "1525 69 2069 39625\n"
     ]
    }
   ],
   "source": [
    "print TP, FP, FN, TN"
   ]
  },
  {
   "cell_type": "markdown",
   "metadata": {},
   "source": [
    "## SVM Model \n",
    "### - not implimenting this, takes way too long to fit, takes many, MANY hours to actually tune hyperparameters"
   ]
  },
  {
   "cell_type": "code",
   "execution_count": 28,
   "metadata": {
    "collapsed": false
   },
   "outputs": [],
   "source": [
    "#parameters = {'kernel':('linear', 'rbf'), 'C':[1, 5]}\n",
    "#svr = svm.SVC()\n",
    "#clf = GridSearchCV(svr, parameters)\n",
    "#svr_optimum = svr.fit(X_train, y_train)"
   ]
  },
  {
   "cell_type": "code",
   "execution_count": 29,
   "metadata": {
    "collapsed": true
   },
   "outputs": [],
   "source": [
    "#parameters = {'kernel':('linear', 'rbf'), 'C':[1, 500, 1000, 10000]}\n",
    "#svr = svm.SVC()\n",
    "#clf = GridSearchCV(svr, parameters)\n",
    "#svr_optimum = clf.fit(X_train, y_train)"
   ]
  },
  {
   "cell_type": "markdown",
   "metadata": {},
   "source": [
    "### SVM - Accuracy"
   ]
  },
  {
   "cell_type": "code",
   "execution_count": 30,
   "metadata": {
    "collapsed": true
   },
   "outputs": [],
   "source": [
    "#apply to the validation sample\n",
    "#labelPred = svr_optimum.predict(X_test)\n",
    "#labelActual = y_test\n",
    "#X_test_copy['SVM_predict'] = svr_optimum.predict(X_test)"
   ]
  },
  {
   "cell_type": "markdown",
   "metadata": {},
   "source": [
    "#### look at precision / accuracy / recall"
   ]
  },
  {
   "cell_type": "code",
   "execution_count": 31,
   "metadata": {
    "collapsed": false
   },
   "outputs": [
    {
     "data": {
      "text/plain": [
       "\"\\n#compute TP,FP,FN,TN for the above classification\\nTP = sum((labelPred==1)&(labelActual==1))\\nFP = sum((labelPred==1)&(labelActual==0))\\nFN = sum((labelPred==0)&(labelActual==1))\\nTN = sum((labelPred==0)&(labelActual==0))\\n\\n#compute precision, accuracy and recall\\nPrec= 100.0 * TP/(TP+FP)\\nAcc = 100.0 * (TP+TN)/(TP+TN+FP+FN)\\nRec = 100.0 * TP/(TP+FN)\\nprint('Precision = %.2f%%\\nAccuracy = %.2f%%\\nRecall = %.2f%%'%(Prec,Acc,Rec))\\n\""
      ]
     },
     "execution_count": 31,
     "metadata": {},
     "output_type": "execute_result"
    }
   ],
   "source": [
    "'''\n",
    "#compute TP,FP,FN,TN for the above classification\n",
    "TP = sum((labelPred==1)&(labelActual==1))\n",
    "FP = sum((labelPred==1)&(labelActual==0))\n",
    "FN = sum((labelPred==0)&(labelActual==1))\n",
    "TN = sum((labelPred==0)&(labelActual==0))\n",
    "\n",
    "#compute precision, accuracy and recall\n",
    "Prec= 100.0 * TP/(TP+FP)\n",
    "Acc = 100.0 * (TP+TN)/(TP+TN+FP+FN)\n",
    "Rec = 100.0 * TP/(TP+FN)\n",
    "print('Precision = %.2f%%\\nAccuracy = %.2f%%\\nRecall = %.2f%%'%(Prec,Acc,Rec))\n",
    "'''"
   ]
  },
  {
   "cell_type": "markdown",
   "metadata": {},
   "source": [
    "#### look at auc"
   ]
  },
  {
   "cell_type": "code",
   "execution_count": 32,
   "metadata": {
    "collapsed": false
   },
   "outputs": [
    {
     "data": {
      "text/plain": [
       "'\\nres=[]\\nfor i in range(1,20):\\n    X_train, X_test, y_train, y_test = train_test_split(X, y, test_size = 0.3, random_state = i)\\n    pred=svr_optimum.predict(X_test)\\n    res.append(rs(np.array(y_test.apply(int)),pred))\\n    #print rs(np.array(y_test.apply(int)),pred)\\nprint np.mean(res)\\n'"
      ]
     },
     "execution_count": 32,
     "metadata": {},
     "output_type": "execute_result"
    }
   ],
   "source": [
    "'''\n",
    "res=[]\n",
    "for i in range(1,20):\n",
    "    X_train, X_test, y_train, y_test = train_test_split(X, y, test_size = 0.3, random_state = i)\n",
    "    pred=svr_optimum.predict(X_test)\n",
    "    res.append(rs(np.array(y_test.apply(int)),pred))\n",
    "    #print rs(np.array(y_test.apply(int)),pred)\n",
    "print np.mean(res)\n",
    "'''"
   ]
  },
  {
   "cell_type": "markdown",
   "metadata": {},
   "source": [
    "## Apply models to full dataset"
   ]
  },
  {
   "cell_type": "code",
   "execution_count": 33,
   "metadata": {
    "collapsed": false
   },
   "outputs": [],
   "source": [
    "# apply to full dataset\n",
    "dlba_school_df_full_small_copy = dlba_school_df_full_small.copy()\n",
    "dlba_school_df_full_small_X = dlba_school_df_full_small_copy.iloc[:,3:]\n",
    "dlba_school_df_full_small['r_tree_predict'] = r_tree_tuned.predict(dlba_school_df_full_small_X)\n",
    "dlba_school_df_full_small['r_tree_predict_continuous'] = r_tree_tuned.predict_proba(dlba_school_df_full_small_X)[:,1]"
   ]
  },
  {
   "cell_type": "code",
   "execution_count": 34,
   "metadata": {
    "collapsed": false
   },
   "outputs": [
    {
     "data": {
      "text/html": [
       "<div>\n",
       "<table border=\"1\" class=\"dataframe\">\n",
       "  <thead>\n",
       "    <tr style=\"text-align: right;\">\n",
       "      <th></th>\n",
       "      <th>Account_ID</th>\n",
       "      <th>Parcel_ID</th>\n",
       "      <th>Account_Name</th>\n",
       "      <th>Neighborhood_Sales_Median</th>\n",
       "      <th>occupancy_model_pct</th>\n",
       "      <th>dist_to_school</th>\n",
       "      <th>fire_dummy</th>\n",
       "      <th>usps_vacant_dummy</th>\n",
       "      <th>foreclosed_dummy</th>\n",
       "      <th>foreclosure_lag</th>\n",
       "      <th>boarding_needed_dummy</th>\n",
       "      <th>dumping_dummy</th>\n",
       "      <th>dng_dummy</th>\n",
       "      <th>mcm_good_dummy</th>\n",
       "      <th>mcm_fair_dummy</th>\n",
       "      <th>mcm_demo_dummy</th>\n",
       "      <th>r_tree_predict</th>\n",
       "      <th>r_tree_predict_continuous</th>\n",
       "    </tr>\n",
       "  </thead>\n",
       "  <tbody>\n",
       "    <tr>\n",
       "      <th>0</th>\n",
       "      <td>001j000000Idvvm</td>\n",
       "      <td>22027073.</td>\n",
       "      <td>19759 Littlefield</td>\n",
       "      <td>4.16</td>\n",
       "      <td>99.66</td>\n",
       "      <td>1390.037738</td>\n",
       "      <td>0</td>\n",
       "      <td>1</td>\n",
       "      <td>0</td>\n",
       "      <td>0.0</td>\n",
       "      <td>0</td>\n",
       "      <td>0</td>\n",
       "      <td>0</td>\n",
       "      <td>1</td>\n",
       "      <td>0</td>\n",
       "      <td>0</td>\n",
       "      <td>0</td>\n",
       "      <td>0.000143</td>\n",
       "    </tr>\n",
       "    <tr>\n",
       "      <th>1</th>\n",
       "      <td>001j000000Idxml</td>\n",
       "      <td>22054984.</td>\n",
       "      <td>15454 Prevost</td>\n",
       "      <td>8.49</td>\n",
       "      <td>99.65</td>\n",
       "      <td>2291.720306</td>\n",
       "      <td>0</td>\n",
       "      <td>1</td>\n",
       "      <td>0</td>\n",
       "      <td>0.0</td>\n",
       "      <td>0</td>\n",
       "      <td>0</td>\n",
       "      <td>0</td>\n",
       "      <td>1</td>\n",
       "      <td>0</td>\n",
       "      <td>0</td>\n",
       "      <td>0</td>\n",
       "      <td>0.000118</td>\n",
       "    </tr>\n",
       "    <tr>\n",
       "      <th>2</th>\n",
       "      <td>001j000000Idzep</td>\n",
       "      <td>21077398.</td>\n",
       "      <td>6150 University Pl</td>\n",
       "      <td>7.03</td>\n",
       "      <td>93.91</td>\n",
       "      <td>1768.061975</td>\n",
       "      <td>0</td>\n",
       "      <td>1</td>\n",
       "      <td>0</td>\n",
       "      <td>0.0</td>\n",
       "      <td>0</td>\n",
       "      <td>0</td>\n",
       "      <td>0</td>\n",
       "      <td>1</td>\n",
       "      <td>0</td>\n",
       "      <td>0</td>\n",
       "      <td>0</td>\n",
       "      <td>0.010752</td>\n",
       "    </tr>\n",
       "    <tr>\n",
       "      <th>3</th>\n",
       "      <td>001j000000Ie1Xa</td>\n",
       "      <td>22059049.</td>\n",
       "      <td>15805 St Marys</td>\n",
       "      <td>8.49</td>\n",
       "      <td>93.91</td>\n",
       "      <td>3134.281189</td>\n",
       "      <td>0</td>\n",
       "      <td>1</td>\n",
       "      <td>0</td>\n",
       "      <td>0.0</td>\n",
       "      <td>1</td>\n",
       "      <td>0</td>\n",
       "      <td>0</td>\n",
       "      <td>1</td>\n",
       "      <td>0</td>\n",
       "      <td>0</td>\n",
       "      <td>0</td>\n",
       "      <td>0.011255</td>\n",
       "    </tr>\n",
       "    <tr>\n",
       "      <th>4</th>\n",
       "      <td>001j000000Ie3Rg</td>\n",
       "      <td>22062755.</td>\n",
       "      <td>14740 Woodmont</td>\n",
       "      <td>8.12</td>\n",
       "      <td>91.96</td>\n",
       "      <td>720.749462</td>\n",
       "      <td>0</td>\n",
       "      <td>1</td>\n",
       "      <td>0</td>\n",
       "      <td>0.0</td>\n",
       "      <td>0</td>\n",
       "      <td>0</td>\n",
       "      <td>0</td>\n",
       "      <td>1</td>\n",
       "      <td>0</td>\n",
       "      <td>0</td>\n",
       "      <td>0</td>\n",
       "      <td>0.015332</td>\n",
       "    </tr>\n",
       "    <tr>\n",
       "      <th>5</th>\n",
       "      <td>001j000000Ie5Ko</td>\n",
       "      <td>16027453.</td>\n",
       "      <td>16128 Turner</td>\n",
       "      <td>3.00</td>\n",
       "      <td>100.00</td>\n",
       "      <td>979.713445</td>\n",
       "      <td>0</td>\n",
       "      <td>1</td>\n",
       "      <td>0</td>\n",
       "      <td>0.0</td>\n",
       "      <td>0</td>\n",
       "      <td>0</td>\n",
       "      <td>0</td>\n",
       "      <td>1</td>\n",
       "      <td>0</td>\n",
       "      <td>0</td>\n",
       "      <td>0</td>\n",
       "      <td>0.000166</td>\n",
       "    </tr>\n",
       "    <tr>\n",
       "      <th>6</th>\n",
       "      <td>001j000000Ie7Ej</td>\n",
       "      <td>12006273.</td>\n",
       "      <td>16645 Lawton</td>\n",
       "      <td>1.42</td>\n",
       "      <td>99.48</td>\n",
       "      <td>852.641974</td>\n",
       "      <td>0</td>\n",
       "      <td>1</td>\n",
       "      <td>0</td>\n",
       "      <td>0.0</td>\n",
       "      <td>0</td>\n",
       "      <td>0</td>\n",
       "      <td>0</td>\n",
       "      <td>1</td>\n",
       "      <td>0</td>\n",
       "      <td>0</td>\n",
       "      <td>0</td>\n",
       "      <td>0.000297</td>\n",
       "    </tr>\n",
       "    <tr>\n",
       "      <th>7</th>\n",
       "      <td>001j000000Ie9HB</td>\n",
       "      <td>08010489.</td>\n",
       "      <td>15325 La Salle Blvd</td>\n",
       "      <td>0.64</td>\n",
       "      <td>14.09</td>\n",
       "      <td>941.297531</td>\n",
       "      <td>0</td>\n",
       "      <td>1</td>\n",
       "      <td>0</td>\n",
       "      <td>0.0</td>\n",
       "      <td>0</td>\n",
       "      <td>0</td>\n",
       "      <td>0</td>\n",
       "      <td>0</td>\n",
       "      <td>0</td>\n",
       "      <td>0</td>\n",
       "      <td>0</td>\n",
       "      <td>0.431571</td>\n",
       "    </tr>\n",
       "    <tr>\n",
       "      <th>8</th>\n",
       "      <td>001j000000IeBUo</td>\n",
       "      <td>10006510.</td>\n",
       "      <td>1483 16th St</td>\n",
       "      <td>9.11</td>\n",
       "      <td>100.00</td>\n",
       "      <td>2290.365887</td>\n",
       "      <td>0</td>\n",
       "      <td>1</td>\n",
       "      <td>0</td>\n",
       "      <td>0.0</td>\n",
       "      <td>0</td>\n",
       "      <td>0</td>\n",
       "      <td>0</td>\n",
       "      <td>1</td>\n",
       "      <td>0</td>\n",
       "      <td>0</td>\n",
       "      <td>0</td>\n",
       "      <td>0.000114</td>\n",
       "    </tr>\n",
       "    <tr>\n",
       "      <th>9</th>\n",
       "      <td>001j000000IeDP6</td>\n",
       "      <td>14011756.</td>\n",
       "      <td>4702 30th St</td>\n",
       "      <td>1.61</td>\n",
       "      <td>98.02</td>\n",
       "      <td>1751.155876</td>\n",
       "      <td>0</td>\n",
       "      <td>1</td>\n",
       "      <td>0</td>\n",
       "      <td>0.0</td>\n",
       "      <td>0</td>\n",
       "      <td>0</td>\n",
       "      <td>0</td>\n",
       "      <td>1</td>\n",
       "      <td>0</td>\n",
       "      <td>0</td>\n",
       "      <td>0</td>\n",
       "      <td>0.000284</td>\n",
       "    </tr>\n",
       "    <tr>\n",
       "      <th>10</th>\n",
       "      <td>001j000000IeFK3</td>\n",
       "      <td>17016676.</td>\n",
       "      <td>20480 Bramford</td>\n",
       "      <td>1.80</td>\n",
       "      <td>100.00</td>\n",
       "      <td>3830.675997</td>\n",
       "      <td>0</td>\n",
       "      <td>1</td>\n",
       "      <td>0</td>\n",
       "      <td>0.0</td>\n",
       "      <td>0</td>\n",
       "      <td>0</td>\n",
       "      <td>0</td>\n",
       "      <td>1</td>\n",
       "      <td>0</td>\n",
       "      <td>0</td>\n",
       "      <td>0</td>\n",
       "      <td>0.000335</td>\n",
       "    </tr>\n",
       "    <tr>\n",
       "      <th>11</th>\n",
       "      <td>001j000000IeHC1</td>\n",
       "      <td>22103589.</td>\n",
       "      <td>7808 Patton</td>\n",
       "      <td>2.77</td>\n",
       "      <td>99.25</td>\n",
       "      <td>2121.469340</td>\n",
       "      <td>0</td>\n",
       "      <td>1</td>\n",
       "      <td>0</td>\n",
       "      <td>0.0</td>\n",
       "      <td>0</td>\n",
       "      <td>0</td>\n",
       "      <td>0</td>\n",
       "      <td>1</td>\n",
       "      <td>0</td>\n",
       "      <td>0</td>\n",
       "      <td>0</td>\n",
       "      <td>0.000194</td>\n",
       "    </tr>\n",
       "    <tr>\n",
       "      <th>12</th>\n",
       "      <td>001j000000IeJ3i</td>\n",
       "      <td>22118144.</td>\n",
       "      <td>7692 Beaverland</td>\n",
       "      <td>18.43</td>\n",
       "      <td>97.48</td>\n",
       "      <td>651.364582</td>\n",
       "      <td>0</td>\n",
       "      <td>1</td>\n",
       "      <td>0</td>\n",
       "      <td>0.0</td>\n",
       "      <td>0</td>\n",
       "      <td>0</td>\n",
       "      <td>0</td>\n",
       "      <td>1</td>\n",
       "      <td>0</td>\n",
       "      <td>0</td>\n",
       "      <td>0</td>\n",
       "      <td>0.000124</td>\n",
       "    </tr>\n",
       "    <tr>\n",
       "      <th>13</th>\n",
       "      <td>001j000000IeKvC</td>\n",
       "      <td>20010570-1</td>\n",
       "      <td>4827 Trenton</td>\n",
       "      <td>2.37</td>\n",
       "      <td>99.72</td>\n",
       "      <td>186.737608</td>\n",
       "      <td>0</td>\n",
       "      <td>1</td>\n",
       "      <td>0</td>\n",
       "      <td>0.0</td>\n",
       "      <td>0</td>\n",
       "      <td>0</td>\n",
       "      <td>0</td>\n",
       "      <td>0</td>\n",
       "      <td>1</td>\n",
       "      <td>0</td>\n",
       "      <td>0</td>\n",
       "      <td>0.002071</td>\n",
       "    </tr>\n",
       "    <tr>\n",
       "      <th>14</th>\n",
       "      <td>001j000000IeMrh</td>\n",
       "      <td>15003669.</td>\n",
       "      <td>6865 Edgeton</td>\n",
       "      <td>0.82</td>\n",
       "      <td>93.91</td>\n",
       "      <td>1812.212515</td>\n",
       "      <td>0</td>\n",
       "      <td>1</td>\n",
       "      <td>0</td>\n",
       "      <td>0.0</td>\n",
       "      <td>0</td>\n",
       "      <td>0</td>\n",
       "      <td>0</td>\n",
       "      <td>1</td>\n",
       "      <td>0</td>\n",
       "      <td>0</td>\n",
       "      <td>0</td>\n",
       "      <td>0.016755</td>\n",
       "    </tr>\n",
       "    <tr>\n",
       "      <th>15</th>\n",
       "      <td>001j000000IeRAA</td>\n",
       "      <td>08002755.</td>\n",
       "      <td>1635 Atkinson</td>\n",
       "      <td>2.15</td>\n",
       "      <td>99.74</td>\n",
       "      <td>3507.428675</td>\n",
       "      <td>0</td>\n",
       "      <td>1</td>\n",
       "      <td>0</td>\n",
       "      <td>0.0</td>\n",
       "      <td>0</td>\n",
       "      <td>0</td>\n",
       "      <td>0</td>\n",
       "      <td>0</td>\n",
       "      <td>1</td>\n",
       "      <td>0</td>\n",
       "      <td>0</td>\n",
       "      <td>0.003437</td>\n",
       "    </tr>\n",
       "    <tr>\n",
       "      <th>16</th>\n",
       "      <td>001j000000IeT1K</td>\n",
       "      <td>20003215.</td>\n",
       "      <td>8840 Falcon</td>\n",
       "      <td>5.83</td>\n",
       "      <td>93.91</td>\n",
       "      <td>2010.075476</td>\n",
       "      <td>0</td>\n",
       "      <td>1</td>\n",
       "      <td>0</td>\n",
       "      <td>0.0</td>\n",
       "      <td>0</td>\n",
       "      <td>0</td>\n",
       "      <td>0</td>\n",
       "      <td>1</td>\n",
       "      <td>0</td>\n",
       "      <td>0</td>\n",
       "      <td>0</td>\n",
       "      <td>0.010733</td>\n",
       "    </tr>\n",
       "    <tr>\n",
       "      <th>17</th>\n",
       "      <td>001j000000IeUyX</td>\n",
       "      <td>19008329.</td>\n",
       "      <td>5374 Holcomb</td>\n",
       "      <td>0.59</td>\n",
       "      <td>14.09</td>\n",
       "      <td>2177.757194</td>\n",
       "      <td>0</td>\n",
       "      <td>0</td>\n",
       "      <td>0</td>\n",
       "      <td>0.0</td>\n",
       "      <td>0</td>\n",
       "      <td>0</td>\n",
       "      <td>0</td>\n",
       "      <td>1</td>\n",
       "      <td>0</td>\n",
       "      <td>0</td>\n",
       "      <td>0</td>\n",
       "      <td>0.240141</td>\n",
       "    </tr>\n",
       "    <tr>\n",
       "      <th>18</th>\n",
       "      <td>001j000000IeaVu</td>\n",
       "      <td>22103570.</td>\n",
       "      <td>7674 Patton</td>\n",
       "      <td>2.77</td>\n",
       "      <td>99.59</td>\n",
       "      <td>2647.336466</td>\n",
       "      <td>0</td>\n",
       "      <td>1</td>\n",
       "      <td>0</td>\n",
       "      <td>0.0</td>\n",
       "      <td>0</td>\n",
       "      <td>0</td>\n",
       "      <td>0</td>\n",
       "      <td>1</td>\n",
       "      <td>0</td>\n",
       "      <td>0</td>\n",
       "      <td>0</td>\n",
       "      <td>0.000218</td>\n",
       "    </tr>\n",
       "    <tr>\n",
       "      <th>19</th>\n",
       "      <td>001j000000IecN2</td>\n",
       "      <td>16030874.</td>\n",
       "      <td>14237 Roselawn</td>\n",
       "      <td>1.32</td>\n",
       "      <td>93.91</td>\n",
       "      <td>2017.590330</td>\n",
       "      <td>0</td>\n",
       "      <td>1</td>\n",
       "      <td>1</td>\n",
       "      <td>4.0</td>\n",
       "      <td>0</td>\n",
       "      <td>0</td>\n",
       "      <td>0</td>\n",
       "      <td>1</td>\n",
       "      <td>0</td>\n",
       "      <td>0</td>\n",
       "      <td>0</td>\n",
       "      <td>0.012820</td>\n",
       "    </tr>\n",
       "  </tbody>\n",
       "</table>\n",
       "</div>"
      ],
      "text/plain": [
       "         Account_ID   Parcel_ID         Account_Name  \\\n",
       "0   001j000000Idvvm   22027073.    19759 Littlefield   \n",
       "1   001j000000Idxml   22054984.        15454 Prevost   \n",
       "2   001j000000Idzep   21077398.   6150 University Pl   \n",
       "3   001j000000Ie1Xa   22059049.       15805 St Marys   \n",
       "4   001j000000Ie3Rg   22062755.       14740 Woodmont   \n",
       "5   001j000000Ie5Ko   16027453.         16128 Turner   \n",
       "6   001j000000Ie7Ej   12006273.         16645 Lawton   \n",
       "7   001j000000Ie9HB   08010489.  15325 La Salle Blvd   \n",
       "8   001j000000IeBUo   10006510.         1483 16th St   \n",
       "9   001j000000IeDP6   14011756.         4702 30th St   \n",
       "10  001j000000IeFK3   17016676.       20480 Bramford   \n",
       "11  001j000000IeHC1   22103589.          7808 Patton   \n",
       "12  001j000000IeJ3i   22118144.      7692 Beaverland   \n",
       "13  001j000000IeKvC  20010570-1         4827 Trenton   \n",
       "14  001j000000IeMrh   15003669.         6865 Edgeton   \n",
       "15  001j000000IeRAA   08002755.        1635 Atkinson   \n",
       "16  001j000000IeT1K   20003215.          8840 Falcon   \n",
       "17  001j000000IeUyX   19008329.         5374 Holcomb   \n",
       "18  001j000000IeaVu   22103570.          7674 Patton   \n",
       "19  001j000000IecN2   16030874.       14237 Roselawn   \n",
       "\n",
       "    Neighborhood_Sales_Median  occupancy_model_pct  dist_to_school  \\\n",
       "0                        4.16                99.66     1390.037738   \n",
       "1                        8.49                99.65     2291.720306   \n",
       "2                        7.03                93.91     1768.061975   \n",
       "3                        8.49                93.91     3134.281189   \n",
       "4                        8.12                91.96      720.749462   \n",
       "5                        3.00               100.00      979.713445   \n",
       "6                        1.42                99.48      852.641974   \n",
       "7                        0.64                14.09      941.297531   \n",
       "8                        9.11               100.00     2290.365887   \n",
       "9                        1.61                98.02     1751.155876   \n",
       "10                       1.80               100.00     3830.675997   \n",
       "11                       2.77                99.25     2121.469340   \n",
       "12                      18.43                97.48      651.364582   \n",
       "13                       2.37                99.72      186.737608   \n",
       "14                       0.82                93.91     1812.212515   \n",
       "15                       2.15                99.74     3507.428675   \n",
       "16                       5.83                93.91     2010.075476   \n",
       "17                       0.59                14.09     2177.757194   \n",
       "18                       2.77                99.59     2647.336466   \n",
       "19                       1.32                93.91     2017.590330   \n",
       "\n",
       "    fire_dummy  usps_vacant_dummy  foreclosed_dummy  foreclosure_lag  \\\n",
       "0            0                  1                 0              0.0   \n",
       "1            0                  1                 0              0.0   \n",
       "2            0                  1                 0              0.0   \n",
       "3            0                  1                 0              0.0   \n",
       "4            0                  1                 0              0.0   \n",
       "5            0                  1                 0              0.0   \n",
       "6            0                  1                 0              0.0   \n",
       "7            0                  1                 0              0.0   \n",
       "8            0                  1                 0              0.0   \n",
       "9            0                  1                 0              0.0   \n",
       "10           0                  1                 0              0.0   \n",
       "11           0                  1                 0              0.0   \n",
       "12           0                  1                 0              0.0   \n",
       "13           0                  1                 0              0.0   \n",
       "14           0                  1                 0              0.0   \n",
       "15           0                  1                 0              0.0   \n",
       "16           0                  1                 0              0.0   \n",
       "17           0                  0                 0              0.0   \n",
       "18           0                  1                 0              0.0   \n",
       "19           0                  1                 1              4.0   \n",
       "\n",
       "    boarding_needed_dummy  dumping_dummy  dng_dummy  mcm_good_dummy  \\\n",
       "0                       0              0          0               1   \n",
       "1                       0              0          0               1   \n",
       "2                       0              0          0               1   \n",
       "3                       1              0          0               1   \n",
       "4                       0              0          0               1   \n",
       "5                       0              0          0               1   \n",
       "6                       0              0          0               1   \n",
       "7                       0              0          0               0   \n",
       "8                       0              0          0               1   \n",
       "9                       0              0          0               1   \n",
       "10                      0              0          0               1   \n",
       "11                      0              0          0               1   \n",
       "12                      0              0          0               1   \n",
       "13                      0              0          0               0   \n",
       "14                      0              0          0               1   \n",
       "15                      0              0          0               0   \n",
       "16                      0              0          0               1   \n",
       "17                      0              0          0               1   \n",
       "18                      0              0          0               1   \n",
       "19                      0              0          0               1   \n",
       "\n",
       "    mcm_fair_dummy  mcm_demo_dummy  r_tree_predict  r_tree_predict_continuous  \n",
       "0                0               0               0                   0.000143  \n",
       "1                0               0               0                   0.000118  \n",
       "2                0               0               0                   0.010752  \n",
       "3                0               0               0                   0.011255  \n",
       "4                0               0               0                   0.015332  \n",
       "5                0               0               0                   0.000166  \n",
       "6                0               0               0                   0.000297  \n",
       "7                0               0               0                   0.431571  \n",
       "8                0               0               0                   0.000114  \n",
       "9                0               0               0                   0.000284  \n",
       "10               0               0               0                   0.000335  \n",
       "11               0               0               0                   0.000194  \n",
       "12               0               0               0                   0.000124  \n",
       "13               1               0               0                   0.002071  \n",
       "14               0               0               0                   0.016755  \n",
       "15               1               0               0                   0.003437  \n",
       "16               0               0               0                   0.010733  \n",
       "17               0               0               0                   0.240141  \n",
       "18               0               0               0                   0.000218  \n",
       "19               0               0               0                   0.012820  "
      ]
     },
     "execution_count": 34,
     "metadata": {},
     "output_type": "execute_result"
    }
   ],
   "source": [
    "dlba_school_df_full_small.head(20)"
   ]
  },
  {
   "cell_type": "code",
   "execution_count": 35,
   "metadata": {
    "collapsed": false
   },
   "outputs": [],
   "source": [
    "### find addresses of interest\n",
    "#dlba_school_df_full_small[dlba_school_df_full_small.Account_Name.str.contains(\"Parkland\")]"
   ]
  },
  {
   "cell_type": "markdown",
   "metadata": {
    "collapsed": true
   },
   "source": [
    "## Export final dataset as csv"
   ]
  },
  {
   "cell_type": "code",
   "execution_count": 36,
   "metadata": {
    "collapsed": true
   },
   "outputs": [],
   "source": [
    "dlba_school_df_full_small.to_csv(\"/Users/geoffperrin/Desktop/DLBA/demo_project/output/final_demo_prediction_022217.csv\")"
   ]
  },
  {
   "cell_type": "code",
   "execution_count": 37,
   "metadata": {
    "collapsed": false
   },
   "outputs": [
    {
     "data": {
      "text/html": [
       "<div>\n",
       "<table border=\"1\" class=\"dataframe\">\n",
       "  <thead>\n",
       "    <tr style=\"text-align: right;\">\n",
       "      <th></th>\n",
       "      <th>Account_ID</th>\n",
       "      <th>Parcel_ID</th>\n",
       "      <th>Account_Name</th>\n",
       "      <th>Neighborhood_Sales_Median</th>\n",
       "      <th>occupancy_model_pct</th>\n",
       "      <th>dist_to_school</th>\n",
       "      <th>fire_dummy</th>\n",
       "      <th>usps_vacant_dummy</th>\n",
       "      <th>foreclosed_dummy</th>\n",
       "      <th>foreclosure_lag</th>\n",
       "      <th>boarding_needed_dummy</th>\n",
       "      <th>dumping_dummy</th>\n",
       "      <th>dng_dummy</th>\n",
       "      <th>mcm_good_dummy</th>\n",
       "      <th>mcm_fair_dummy</th>\n",
       "      <th>mcm_demo_dummy</th>\n",
       "      <th>r_tree_predict</th>\n",
       "      <th>r_tree_predict_continuous</th>\n",
       "    </tr>\n",
       "  </thead>\n",
       "  <tbody>\n",
       "    <tr>\n",
       "      <th>0</th>\n",
       "      <td>001j000000Idvvm</td>\n",
       "      <td>22027073.</td>\n",
       "      <td>19759 Littlefield</td>\n",
       "      <td>4.16</td>\n",
       "      <td>99.66</td>\n",
       "      <td>1390.037738</td>\n",
       "      <td>0</td>\n",
       "      <td>1</td>\n",
       "      <td>0</td>\n",
       "      <td>0.0</td>\n",
       "      <td>0</td>\n",
       "      <td>0</td>\n",
       "      <td>0</td>\n",
       "      <td>1</td>\n",
       "      <td>0</td>\n",
       "      <td>0</td>\n",
       "      <td>0</td>\n",
       "      <td>0.000143</td>\n",
       "    </tr>\n",
       "    <tr>\n",
       "      <th>1</th>\n",
       "      <td>001j000000Idxml</td>\n",
       "      <td>22054984.</td>\n",
       "      <td>15454 Prevost</td>\n",
       "      <td>8.49</td>\n",
       "      <td>99.65</td>\n",
       "      <td>2291.720306</td>\n",
       "      <td>0</td>\n",
       "      <td>1</td>\n",
       "      <td>0</td>\n",
       "      <td>0.0</td>\n",
       "      <td>0</td>\n",
       "      <td>0</td>\n",
       "      <td>0</td>\n",
       "      <td>1</td>\n",
       "      <td>0</td>\n",
       "      <td>0</td>\n",
       "      <td>0</td>\n",
       "      <td>0.000118</td>\n",
       "    </tr>\n",
       "    <tr>\n",
       "      <th>2</th>\n",
       "      <td>001j000000Idzep</td>\n",
       "      <td>21077398.</td>\n",
       "      <td>6150 University Pl</td>\n",
       "      <td>7.03</td>\n",
       "      <td>93.91</td>\n",
       "      <td>1768.061975</td>\n",
       "      <td>0</td>\n",
       "      <td>1</td>\n",
       "      <td>0</td>\n",
       "      <td>0.0</td>\n",
       "      <td>0</td>\n",
       "      <td>0</td>\n",
       "      <td>0</td>\n",
       "      <td>1</td>\n",
       "      <td>0</td>\n",
       "      <td>0</td>\n",
       "      <td>0</td>\n",
       "      <td>0.010752</td>\n",
       "    </tr>\n",
       "    <tr>\n",
       "      <th>3</th>\n",
       "      <td>001j000000Ie1Xa</td>\n",
       "      <td>22059049.</td>\n",
       "      <td>15805 St Marys</td>\n",
       "      <td>8.49</td>\n",
       "      <td>93.91</td>\n",
       "      <td>3134.281189</td>\n",
       "      <td>0</td>\n",
       "      <td>1</td>\n",
       "      <td>0</td>\n",
       "      <td>0.0</td>\n",
       "      <td>1</td>\n",
       "      <td>0</td>\n",
       "      <td>0</td>\n",
       "      <td>1</td>\n",
       "      <td>0</td>\n",
       "      <td>0</td>\n",
       "      <td>0</td>\n",
       "      <td>0.011255</td>\n",
       "    </tr>\n",
       "    <tr>\n",
       "      <th>4</th>\n",
       "      <td>001j000000Ie3Rg</td>\n",
       "      <td>22062755.</td>\n",
       "      <td>14740 Woodmont</td>\n",
       "      <td>8.12</td>\n",
       "      <td>91.96</td>\n",
       "      <td>720.749462</td>\n",
       "      <td>0</td>\n",
       "      <td>1</td>\n",
       "      <td>0</td>\n",
       "      <td>0.0</td>\n",
       "      <td>0</td>\n",
       "      <td>0</td>\n",
       "      <td>0</td>\n",
       "      <td>1</td>\n",
       "      <td>0</td>\n",
       "      <td>0</td>\n",
       "      <td>0</td>\n",
       "      <td>0.015332</td>\n",
       "    </tr>\n",
       "  </tbody>\n",
       "</table>\n",
       "</div>"
      ],
      "text/plain": [
       "        Account_ID  Parcel_ID        Account_Name  Neighborhood_Sales_Median  \\\n",
       "0  001j000000Idvvm  22027073.   19759 Littlefield                       4.16   \n",
       "1  001j000000Idxml  22054984.       15454 Prevost                       8.49   \n",
       "2  001j000000Idzep  21077398.  6150 University Pl                       7.03   \n",
       "3  001j000000Ie1Xa  22059049.      15805 St Marys                       8.49   \n",
       "4  001j000000Ie3Rg  22062755.      14740 Woodmont                       8.12   \n",
       "\n",
       "   occupancy_model_pct  dist_to_school  fire_dummy  usps_vacant_dummy  \\\n",
       "0                99.66     1390.037738           0                  1   \n",
       "1                99.65     2291.720306           0                  1   \n",
       "2                93.91     1768.061975           0                  1   \n",
       "3                93.91     3134.281189           0                  1   \n",
       "4                91.96      720.749462           0                  1   \n",
       "\n",
       "   foreclosed_dummy  foreclosure_lag  boarding_needed_dummy  dumping_dummy  \\\n",
       "0                 0              0.0                      0              0   \n",
       "1                 0              0.0                      0              0   \n",
       "2                 0              0.0                      0              0   \n",
       "3                 0              0.0                      1              0   \n",
       "4                 0              0.0                      0              0   \n",
       "\n",
       "   dng_dummy  mcm_good_dummy  mcm_fair_dummy  mcm_demo_dummy  r_tree_predict  \\\n",
       "0          0               1               0               0               0   \n",
       "1          0               1               0               0               0   \n",
       "2          0               1               0               0               0   \n",
       "3          0               1               0               0               0   \n",
       "4          0               1               0               0               0   \n",
       "\n",
       "   r_tree_predict_continuous  \n",
       "0                   0.000143  \n",
       "1                   0.000118  \n",
       "2                   0.010752  \n",
       "3                   0.011255  \n",
       "4                   0.015332  "
      ]
     },
     "execution_count": 37,
     "metadata": {},
     "output_type": "execute_result"
    }
   ],
   "source": [
    "dlba_school_df_full_small.head()"
   ]
  },
  {
   "cell_type": "markdown",
   "metadata": {
    "collapsed": true
   },
   "source": [
    "## Visuals"
   ]
  },
  {
   "cell_type": "code",
   "execution_count": 77,
   "metadata": {
    "collapsed": false
   },
   "outputs": [
    {
     "data": {
      "image/png": "[encoded data removed]",
      "text/plain": [
       "<matplotlib.figure.Figure at 0x1df159790>"
      ]
     },
     "metadata": {},
     "output_type": "display_data"
    }
   ],
   "source": [
    "hist, bins = np.histogram(sort_predict, bins=50)\n",
    "width = 0.7 * (bins[1] - bins[0])\n",
    "center = (bins[:-1] + bins[1:]) / 2\n",
    "plt.figure(figsize=(15,10))\n",
    "plt.bar(center, hist, align='center', width=width)\n",
    "plt.xlabel('Probability of Demolition', fontsize = 18)\n",
    "plt.ylabel('N Houses', fontsize = 18)\n",
    "plt.title(\"Distribution of Housing Demolition Probabilities\")\n",
    "plt.show()"
   ]
  },
  {
   "cell_type": "code",
   "execution_count": 80,
   "metadata": {
    "collapsed": false
   },
   "outputs": [
    {
     "data": {
      "image/png": "[encoded data removed]",
      "text/plain": [
       "<matplotlib.figure.Figure at 0x1216cbb90>"
      ]
     },
     "metadata": {},
     "output_type": "display_data"
    }
   ],
   "source": [
    "sort_predict_gt_zero = sort_predict[sort_predict > 0.05]\n",
    "hist, bins = np.histogram(sort_predict_gt_zero, bins=50)\n",
    "width = 0.7 * (bins[1] - bins[0])\n",
    "center = (bins[:-1] + bins[1:]) / 2\n",
    "plt.figure(figsize=(15,10))\n",
    "plt.bar(center, hist, align='center', width=width)\n",
    "plt.xlabel('Probability of Demolition', fontsize = 18)\n",
    "plt.ylabel('N Houses', fontsize = 18)\n",
    "plt.title(\"Distribution of Housing Demolition Probabilities gt 0.05\")\n",
    "plt.show()"
   ]
  },
  {
   "cell_type": "code",
   "execution_count": null,
   "metadata": {
    "collapsed": true
   },
   "outputs": [],
   "source": []
  }
 ],
 "metadata": {
  "anaconda-cloud": {},
  "kernelspec": {
   "display_name": "Python [Root]",
   "language": "python",
   "name": "Python [Root]"
  },
  "language_info": {
   "codemirror_mode": {
    "name": "ipython",
    "version": 2
   },
   "file_extension": ".py",
   "mimetype": "text/x-python",
   "name": "python",
   "nbconvert_exporter": "python",
   "pygments_lexer": "ipython2",
   "version": "2.7.12"
  }
 },
 "nbformat": 4,
 "nbformat_minor": 0
}
