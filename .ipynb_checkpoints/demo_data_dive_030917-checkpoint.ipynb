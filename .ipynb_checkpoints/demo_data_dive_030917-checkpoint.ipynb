{
 "cells": [
  {
   "cell_type": "code",
   "execution_count": 42,
   "metadata": {
    "collapsed": false
   },
   "outputs": [
    {
     "name": "stdout",
     "output_type": "stream",
     "text": [
      "Populating the interactive namespace from numpy and matplotlib\n"
     ]
    },
    {
     "name": "stderr",
     "output_type": "stream",
     "text": [
      "WARNING: pylab import has clobbered these variables: ['compress', 'datetime']\n",
      "`%matplotlib` prevents importing * from pylab and numpy\n"
     ]
    }
   ],
   "source": [
    "import numpy as np\n",
    "import pandas as pd\n",
    "import geopandas as gp\n",
    "import os\n",
    "import subprocess\n",
    "import math\n",
    "import shapely as shp\n",
    "from datetime import datetime\n",
    "from fiona.crs import from_epsg\n",
    "import matplotlib\n",
    "matplotlib.use('TkAgg')\n",
    "import matplotlib.pyplot as plt\n",
    "import re\n",
    "from pandas.tseries.holiday import get_calendar, HolidayCalendarFactory, GoodFriday\n",
    "from datetime import datetime\n",
    "import sklearn\n",
    "from sklearn.model_selection import train_test_split\n",
    "from sklearn.linear_model import LogisticRegression\n",
    "from sklearn.ensemble import RandomForestClassifier as RFC\n",
    "from sklearn.model_selection import GridSearchCV\n",
    "from sklearn.metrics import roc_auc_score as rs\n",
    "from sklearn import svm, datasets\n",
    "from sklearn import metrics\n",
    "from sklearn.metrics import roc_curve\n",
    "from sklearn.metrics import auc\n",
    "\n",
    "from itertools import compress\n",
    "\n",
    "np.random.seed(222)\n",
    "\n",
    "%matplotlib inline\n",
    "%pylab inline"
   ]
  },
  {
   "cell_type": "markdown",
   "metadata": {},
   "source": [
    "### perhaps add a feature that is the number of occupied properties within a buffer of every property\n",
    "\n",
    "## Notes 2-1-17\n",
    "1. add MCM condition to dummy variables ###CHECK\n",
    "2. add any houses that score very high on the occupancy model as homes that should not be demolished ###CHECK\n",
    "3. update DFD fire list\n",
    "4. figure out regularization techniques for logit \"regression\" model ###check\n",
    "5. run accuracy scores / 'mse' ###check"
   ]
  },
  {
   "cell_type": "markdown",
   "metadata": {},
   "source": [
    "## Notes 2-13-17\n",
    "\n",
    "1. add feature that is the number of vacant homes in the census block that a given house belongs to\n",
    "2. alternative  - add feature that is the # of vacant homes in a given buffer from a property\n",
    "3. start writing up documentation \n"
   ]
  },
  {
   "cell_type": "markdown",
   "metadata": {},
   "source": [
    "## Notes 2-15-17\n",
    "\n",
    "1. apply model to full dataset ###CHECK\n",
    "2. add continuous probabilities to model outputs\n",
    "3. write up timesheet by next wednesday\n",
    "4. final paper written by March 2nd?"
   ]
  },
  {
   "cell_type": "markdown",
   "metadata": {},
   "source": [
    "## Notes 2-21-17\n",
    "1. build SVM model? ###CHECK\n",
    "2. I need lat / lon of parcels - Parcel2016.gdb! in the data folder!\n",
    "3. finalize model, export to .csv"
   ]
  },
  {
   "cell_type": "markdown",
   "metadata": {},
   "source": [
    "## Notes 2-22-17\n",
    "1. tune hyperparameters of randomtree ###CHECK\n",
    "2. finalize model, export to .csv ###CHECK\n"
   ]
  },
  {
   "cell_type": "markdown",
   "metadata": {},
   "source": [
    "## notes 3-1-17\n",
    "1. preserve Account_ID #CHECK\n",
    "2. program in classification threshold - do this by friday #CHECK\n",
    "3. build model w/out mcm data and see what happens"
   ]
  },
  {
   "cell_type": "code",
   "execution_count": 4,
   "metadata": {
    "collapsed": false
   },
   "outputs": [
    {
     "data": {
      "text/plain": [
       "'/Users/geoffperrin/Desktop/DLBA/demo_project/data'"
      ]
     },
     "execution_count": 4,
     "metadata": {},
     "output_type": "execute_result"
    }
   ],
   "source": [
    "wd = os.getcwd()\n",
    "os.chdir('../data')\n",
    "os.getcwd()"
   ]
  },
  {
   "cell_type": "code",
   "execution_count": 5,
   "metadata": {
    "collapsed": false
   },
   "outputs": [
    {
     "name": "stderr",
     "output_type": "stream",
     "text": [
      "/Users/geoffperrin/anaconda2/lib/python2.7/site-packages/IPython/core/interactiveshell.py:2723: DtypeWarning: Columns (26,27) have mixed types. Specify dtype option on import or set low_memory=False.\n",
      "  interactivity=interactivity, compiler=compiler, result=result)\n"
     ]
    }
   ],
   "source": [
    "#read in detroit feature dataset\n",
    "city_df = pd.read_csv('CitywideIndicators_20170221.csv')"
   ]
  },
  {
   "cell_type": "markdown",
   "metadata": {},
   "source": [
    "## build labeled training dataset"
   ]
  },
  {
   "cell_type": "code",
   "execution_count": 6,
   "metadata": {
    "collapsed": false
   },
   "outputs": [
    {
     "data": {
      "text/html": [
       "<div>\n",
       "<table border=\"1\" class=\"dataframe\">\n",
       "  <thead>\n",
       "    <tr style=\"text-align: right;\">\n",
       "      <th></th>\n",
       "      <th>Account_ID</th>\n",
       "      <th>Parcel_ID</th>\n",
       "      <th>Account_Name</th>\n",
       "      <th>Property_Ownership</th>\n",
       "      <th>Property_Class</th>\n",
       "      <th>Program</th>\n",
       "      <th>Current_Status</th>\n",
       "      <th>Non-City_Demo_Program</th>\n",
       "      <th>Current_Status_Date</th>\n",
       "      <th>Neighborhood</th>\n",
       "      <th>...</th>\n",
       "      <th>MCM_Institutional_Use</th>\n",
       "      <th>MCM_Public_Use</th>\n",
       "      <th>MCM_Condition</th>\n",
       "      <th>MCM_Fire_Damage</th>\n",
       "      <th>MCM_Level_of_Fire_Damage</th>\n",
       "      <th>MCM_Boarding_Needed</th>\n",
       "      <th>MCM_Trespass</th>\n",
       "      <th>MCM_Vacant_Lot</th>\n",
       "      <th>MCM_Maintained</th>\n",
       "      <th>MCM_Dumping</th>\n",
       "    </tr>\n",
       "  </thead>\n",
       "  <tbody>\n",
       "    <tr>\n",
       "      <th>1</th>\n",
       "      <td>001j000000Idvvm</td>\n",
       "      <td>22027073.</td>\n",
       "      <td>19759 Littlefield</td>\n",
       "      <td>Non-DLBA Owned</td>\n",
       "      <td>Residential-Structure</td>\n",
       "      <td>NaN</td>\n",
       "      <td>NaN</td>\n",
       "      <td>NaN</td>\n",
       "      <td>NaN</td>\n",
       "      <td>Greenwich</td>\n",
       "      <td>...</td>\n",
       "      <td>NaN</td>\n",
       "      <td>NaN</td>\n",
       "      <td>Good</td>\n",
       "      <td>NaN</td>\n",
       "      <td>NaN</td>\n",
       "      <td>No</td>\n",
       "      <td>NaN</td>\n",
       "      <td>NaN</td>\n",
       "      <td>NaN</td>\n",
       "      <td>No</td>\n",
       "    </tr>\n",
       "    <tr>\n",
       "      <th>2</th>\n",
       "      <td>001j000000Idxml</td>\n",
       "      <td>22054984.</td>\n",
       "      <td>15454 Prevost</td>\n",
       "      <td>Non-DLBA Owned</td>\n",
       "      <td>Residential-Structure</td>\n",
       "      <td>NaN</td>\n",
       "      <td>NaN</td>\n",
       "      <td>NaN</td>\n",
       "      <td>NaN</td>\n",
       "      <td>Crary/St Marys</td>\n",
       "      <td>...</td>\n",
       "      <td>NaN</td>\n",
       "      <td>NaN</td>\n",
       "      <td>Good</td>\n",
       "      <td>NaN</td>\n",
       "      <td>NaN</td>\n",
       "      <td>No</td>\n",
       "      <td>NaN</td>\n",
       "      <td>NaN</td>\n",
       "      <td>NaN</td>\n",
       "      <td>No</td>\n",
       "    </tr>\n",
       "    <tr>\n",
       "      <th>3</th>\n",
       "      <td>001j000000Idzep</td>\n",
       "      <td>21077398.</td>\n",
       "      <td>6150 University Pl</td>\n",
       "      <td>Non-DLBA Owned</td>\n",
       "      <td>Residential-Structure</td>\n",
       "      <td>NaN</td>\n",
       "      <td>NaN</td>\n",
       "      <td>NaN</td>\n",
       "      <td>NaN</td>\n",
       "      <td>Cornerstone Village</td>\n",
       "      <td>...</td>\n",
       "      <td>NaN</td>\n",
       "      <td>NaN</td>\n",
       "      <td>Good</td>\n",
       "      <td>No</td>\n",
       "      <td>NaN</td>\n",
       "      <td>No</td>\n",
       "      <td>NaN</td>\n",
       "      <td>NaN</td>\n",
       "      <td>NaN</td>\n",
       "      <td>No</td>\n",
       "    </tr>\n",
       "    <tr>\n",
       "      <th>4</th>\n",
       "      <td>001j000000Ie1Xa</td>\n",
       "      <td>22059049.</td>\n",
       "      <td>15805 St Marys</td>\n",
       "      <td>Non-DLBA Owned</td>\n",
       "      <td>Residential-Structure</td>\n",
       "      <td>NaN</td>\n",
       "      <td>NaN</td>\n",
       "      <td>NaN</td>\n",
       "      <td>NaN</td>\n",
       "      <td>Crary/St Marys</td>\n",
       "      <td>...</td>\n",
       "      <td>NaN</td>\n",
       "      <td>NaN</td>\n",
       "      <td>Good</td>\n",
       "      <td>NaN</td>\n",
       "      <td>NaN</td>\n",
       "      <td>Yes</td>\n",
       "      <td>NaN</td>\n",
       "      <td>NaN</td>\n",
       "      <td>NaN</td>\n",
       "      <td>No</td>\n",
       "    </tr>\n",
       "    <tr>\n",
       "      <th>5</th>\n",
       "      <td>001j000000Ie3Rg</td>\n",
       "      <td>22062755.</td>\n",
       "      <td>14740 Woodmont</td>\n",
       "      <td>Non-DLBA Owned</td>\n",
       "      <td>Residential-Structure</td>\n",
       "      <td>NaN</td>\n",
       "      <td>NaN</td>\n",
       "      <td>NaN</td>\n",
       "      <td>NaN</td>\n",
       "      <td>Grand River-St Marys</td>\n",
       "      <td>...</td>\n",
       "      <td>NaN</td>\n",
       "      <td>NaN</td>\n",
       "      <td>Good</td>\n",
       "      <td>NaN</td>\n",
       "      <td>NaN</td>\n",
       "      <td>No</td>\n",
       "      <td>NaN</td>\n",
       "      <td>NaN</td>\n",
       "      <td>NaN</td>\n",
       "      <td>No</td>\n",
       "    </tr>\n",
       "  </tbody>\n",
       "</table>\n",
       "<p>5 rows × 37 columns</p>\n",
       "</div>"
      ],
      "text/plain": [
       "        Account_ID  Parcel_ID        Account_Name Property_Ownership  \\\n",
       "1  001j000000Idvvm  22027073.   19759 Littlefield     Non-DLBA Owned   \n",
       "2  001j000000Idxml  22054984.       15454 Prevost     Non-DLBA Owned   \n",
       "3  001j000000Idzep  21077398.  6150 University Pl     Non-DLBA Owned   \n",
       "4  001j000000Ie1Xa  22059049.      15805 St Marys     Non-DLBA Owned   \n",
       "5  001j000000Ie3Rg  22062755.      14740 Woodmont     Non-DLBA Owned   \n",
       "\n",
       "          Property_Class Program Current_Status Non-City_Demo_Program  \\\n",
       "1  Residential-Structure     NaN            NaN                   NaN   \n",
       "2  Residential-Structure     NaN            NaN                   NaN   \n",
       "3  Residential-Structure     NaN            NaN                   NaN   \n",
       "4  Residential-Structure     NaN            NaN                   NaN   \n",
       "5  Residential-Structure     NaN            NaN                   NaN   \n",
       "\n",
       "  Current_Status_Date          Neighborhood     ...      \\\n",
       "1                 NaN             Greenwich     ...       \n",
       "2                 NaN        Crary/St Marys     ...       \n",
       "3                 NaN   Cornerstone Village     ...       \n",
       "4                 NaN        Crary/St Marys     ...       \n",
       "5                 NaN  Grand River-St Marys     ...       \n",
       "\n",
       "   MCM_Institutional_Use MCM_Public_Use MCM_Condition MCM_Fire_Damage  \\\n",
       "1                    NaN            NaN          Good             NaN   \n",
       "2                    NaN            NaN          Good             NaN   \n",
       "3                    NaN            NaN          Good              No   \n",
       "4                    NaN            NaN          Good             NaN   \n",
       "5                    NaN            NaN          Good             NaN   \n",
       "\n",
       "   MCM_Level_of_Fire_Damage MCM_Boarding_Needed MCM_Trespass  MCM_Vacant_Lot  \\\n",
       "1                       NaN                  No          NaN             NaN   \n",
       "2                       NaN                  No          NaN             NaN   \n",
       "3                       NaN                  No          NaN             NaN   \n",
       "4                       NaN                 Yes          NaN             NaN   \n",
       "5                       NaN                  No          NaN             NaN   \n",
       "\n",
       "  MCM_Maintained MCM_Dumping  \n",
       "1            NaN          No  \n",
       "2            NaN          No  \n",
       "3            NaN          No  \n",
       "4            NaN          No  \n",
       "5            NaN          No  \n",
       "\n",
       "[5 rows x 37 columns]"
      ]
     },
     "execution_count": 6,
     "metadata": {},
     "output_type": "execute_result"
    }
   ],
   "source": [
    "#remove lots\n",
    "dlba_df = city_df[city_df['Property Class'] != 'Residential-Lot']\n",
    "\n",
    "#only keep residential lots\n",
    "dlba_df = dlba_df[dlba_df['Property Class'] == 'Residential-Structure']\n",
    "\n",
    "\n",
    "dlba_df_small = dlba_df.rename(columns=lambda x: x.replace(' ', '_'))\n",
    "dlba_df_small.head()"
   ]
  },
  {
   "cell_type": "markdown",
   "metadata": {},
   "source": [
    "## need to fix nans in neighborhood sales median\n",
    "### all the neighborhoods should be in there, but some rows have NaNs!"
   ]
  },
  {
   "cell_type": "code",
   "execution_count": 7,
   "metadata": {
    "collapsed": false
   },
   "outputs": [
    {
     "data": {
      "text/html": [
       "<div>\n",
       "<table border=\"1\" class=\"dataframe\">\n",
       "  <thead>\n",
       "    <tr style=\"text-align: right;\">\n",
       "      <th></th>\n",
       "      <th>Neighborhood</th>\n",
       "      <th>Neighborhood_Sales_Median</th>\n",
       "    </tr>\n",
       "  </thead>\n",
       "  <tbody>\n",
       "    <tr>\n",
       "      <th>0</th>\n",
       "      <td>Airport Sub</td>\n",
       "      <td>0.57</td>\n",
       "    </tr>\n",
       "    <tr>\n",
       "      <th>1</th>\n",
       "      <td>Arden Park</td>\n",
       "      <td>NaN</td>\n",
       "    </tr>\n",
       "    <tr>\n",
       "      <th>2</th>\n",
       "      <td>Aviation Sub</td>\n",
       "      <td>6.24</td>\n",
       "    </tr>\n",
       "    <tr>\n",
       "      <th>3</th>\n",
       "      <td>Bagley</td>\n",
       "      <td>11.68</td>\n",
       "    </tr>\n",
       "    <tr>\n",
       "      <th>4</th>\n",
       "      <td>Barton-McFarland</td>\n",
       "      <td>1.24</td>\n",
       "    </tr>\n",
       "  </tbody>\n",
       "</table>\n",
       "</div>"
      ],
      "text/plain": [
       "       Neighborhood  Neighborhood_Sales_Median\n",
       "0       Airport Sub                       0.57\n",
       "1        Arden Park                        NaN\n",
       "2      Aviation Sub                       6.24\n",
       "3            Bagley                      11.68\n",
       "4  Barton-McFarland                       1.24"
      ]
     },
     "execution_count": 7,
     "metadata": {},
     "output_type": "execute_result"
    }
   ],
   "source": [
    "dlba_df_neighborhood = dlba_df_small[['Neighborhood', 'Neighborhood_Sales_Median']]\n",
    "dlba_df_neighborhood.groupby(['Neighborhood'], as_index=False).mean().head()"
   ]
  },
  {
   "cell_type": "code",
   "execution_count": 8,
   "metadata": {
    "collapsed": false
   },
   "outputs": [
    {
     "data": {
      "text/html": [
       "<div>\n",
       "<table border=\"1\" class=\"dataframe\">\n",
       "  <thead>\n",
       "    <tr style=\"text-align: right;\">\n",
       "      <th></th>\n",
       "      <th>Parcel_ID</th>\n",
       "      <th>dist_to_school</th>\n",
       "    </tr>\n",
       "  </thead>\n",
       "  <tbody>\n",
       "    <tr>\n",
       "      <th>0</th>\n",
       "      <td>16006256.</td>\n",
       "      <td>2196.731029</td>\n",
       "    </tr>\n",
       "    <tr>\n",
       "      <th>1</th>\n",
       "      <td>04000103-4</td>\n",
       "      <td>2375.448135</td>\n",
       "    </tr>\n",
       "    <tr>\n",
       "      <th>2</th>\n",
       "      <td>04003341.</td>\n",
       "      <td>2442.534185</td>\n",
       "    </tr>\n",
       "    <tr>\n",
       "      <th>3</th>\n",
       "      <td>04003339-40</td>\n",
       "      <td>2510.715691</td>\n",
       "    </tr>\n",
       "    <tr>\n",
       "      <th>4</th>\n",
       "      <td>04000119.</td>\n",
       "      <td>2341.253487</td>\n",
       "    </tr>\n",
       "  </tbody>\n",
       "</table>\n",
       "</div>"
      ],
      "text/plain": [
       "     Parcel_ID  dist_to_school\n",
       "0    16006256.     2196.731029\n",
       "1   04000103-4     2375.448135\n",
       "2    04003341.     2442.534185\n",
       "3  04003339-40     2510.715691\n",
       "4    04000119.     2341.253487"
      ]
     },
     "execution_count": 8,
     "metadata": {},
     "output_type": "execute_result"
    }
   ],
   "source": [
    "#read in detroit parcel distance to school df\n",
    "school_df = pd.read_csv('DistanceToSchool_20170123.csv')\n",
    "school_df_small = school_df[[\"PARCELNO\", \"DistanceToSchool_FT\"]]\n",
    "school_df_small.columns = ['Parcel_ID', 'dist_to_school']\n",
    "school_df_small.head()"
   ]
  },
  {
   "cell_type": "code",
   "execution_count": 9,
   "metadata": {
    "collapsed": false
   },
   "outputs": [
    {
     "data": {
      "text/plain": [
       "233839"
      ]
     },
     "execution_count": 9,
     "metadata": {},
     "output_type": "execute_result"
    }
   ],
   "source": [
    "#merge distance to school to city feature df\n",
    "dlba_school_df = dlba_df_small.merge(school_df_small, on='Parcel_ID')\n",
    "len(dlba_school_df)"
   ]
  },
  {
   "cell_type": "code",
   "execution_count": 10,
   "metadata": {
    "collapsed": false,
    "scrolled": false
   },
   "outputs": [],
   "source": [
    "#code dummy variables\n",
    "\n",
    "#mcm condition dummies\n",
    "dlba_school_df['mcm_good_dummy'] = 0\n",
    "dlba_school_df['mcm_good_dummy'] = [1 if i=='Good' else 0 for i in dlba_school_df['MCM_Condition']]\n",
    "\n",
    "dlba_school_df['mcm_fair_dummy'] = 0\n",
    "dlba_school_df['mcm_fair_dummy'] = [1 if i=='Fair' else 0 for i in dlba_school_df['MCM_Condition']]\n",
    "\n",
    "dlba_school_df['mcm_poor_dummy'] = 0\n",
    "dlba_school_df['mcm_poor_dummy'] = [1 if (i=='Poor' or i=='poor, fair') else 0 for i in dlba_school_df['MCM_Condition']]\n",
    "\n",
    "dlba_school_df['mcm_demo_dummy'] = 0\n",
    "dlba_school_df['mcm_demo_dummy'] = [1 if (i=='Suggest Demolition' or i=='suggest demolition, poor') else 0 for i in dlba_school_df['MCM_Condition']]\n",
    "\n",
    "dlba_school_df['mcm_good_dummy'] = 0\n",
    "dlba_school_df['mcm_good_dummy'] = [1 if i=='Good' else 0 for i in dlba_school_df['MCM_Condition']]\n",
    "\n",
    "dlba_school_df['dng_dummy'] = 0\n",
    "dlba_school_df['dng_dummy'] = [0 if pd.isnull(i) else 1 for i in dlba_school_df['DNG_Number']]\n",
    "\n",
    "dlba_school_df['fire_dummy'] = 0\n",
    "dlba_school_df['fire_dummy'] = [0 if pd.isnull(i) else 1 for i in dlba_school_df['DFD_Fire:_Occurrence_Date']]\n",
    "\n",
    "dlba_school_df['usps_vacant_dummy'] = 0\n",
    "dlba_school_df['usps_vacant_dummy'] = [0 if pd.isnull(i) else 1 for i in dlba_school_df['USPS:_Vacancy_Indicated']]\n",
    "\n",
    "dlba_school_df['foreclosed_dummy'] = 0\n",
    "dlba_school_df['foreclosed_dummy'] = [0 if pd.isnull(i) else 1 for i in dlba_school_df['Foreclosure_Year']]\n",
    "\n",
    "#change to current date\n",
    "dlba_school_df['foreclosure_lag'] = 0\n",
    "dlba_school_df['foreclosure_lag'] = [0 if pd.isnull(i) else (2017 - i) for i in dlba_school_df['Foreclosure_Year']]\n",
    "\n",
    "dlba_school_df['boarding_needed_dummy'] = 0\n",
    "dlba_school_df['boarding_needed_dummy'] = [0 if (pd.isnull(i) or i == 'No') else 1 for i in dlba_school_df['MCM_Boarding_Needed']]\n",
    "\n",
    "dlba_school_df['dumping_dummy'] = 0\n",
    "dlba_school_df['dumping_dummy'] = [0 if (pd.isnull(i) or i == 'No') else 1 for i in dlba_school_df['MCM_Dumping']]\n",
    "\n",
    "#replace NaNs with zeros\n",
    "dlba_school_df['Occupancy_Model:_Probability_Pct'] = [0 if pd.isnull(i) else i for i in dlba_school_df['Occupancy_Model:_Probability_Pct']]\n",
    "\n",
    "#remove NaNs for Neighborhood_Sales_Median\n",
    "#in final roll out I need to improve this!!!\n",
    "dlba_school_df = dlba_school_df[~pd.isnull(dlba_school_df['Neighborhood_Sales_Median'])]\n",
    "\n",
    "\n"
   ]
  },
  {
   "cell_type": "code",
   "execution_count": 11,
   "metadata": {
    "collapsed": false
   },
   "outputs": [],
   "source": [
    "# create a full copy of the data in order to apply model to it at the end\n",
    "dlba_school_df_full = dlba_school_df.copy()\n",
    "\n",
    "dlba_school_df_full_small = dlba_school_df_full.drop(['Property_Ownership', 'Property_Class', 'Program', \\\n",
    "                                            'Current_Status', 'Current_Status_Date', 'Neighborhood', 'DNG_Number', \\\n",
    "                                            'WCT_Foreclosure_Status', \\\n",
    "                                            'MCM_Blext_Created_At', 'MCM_Structure', 'MCM_Occupancy',  'MCM_Use',\\\n",
    "                                           'MCM_Units', 'MCM_Residence_Type', 'MCM_Commercial_Use', 'MCM_Industrial_Use',\\\n",
    "                                           'MCM_Institutional_Use', 'MCM_Public_Use', 'MCM_Level_of_Fire_Damage', \\\n",
    "                                            'MCM_Trespass', 'MCM_Vacant_Lot', 'MCM_Maintained', 'DFD_Fire:_Occurrence_Date',\\\n",
    "                                           'USPS:_Vacancy_Indicated', 'Foreclosure_Year', 'MCM_Fire_Damage',\\\n",
    "                                           'USPS:_Last_Update', 'Occupancy_Model:_Last_Update', 'MCM_Boarding_Needed',\\\n",
    "                                           'MCM_Dumping', 'MCM_Condition'], 1)\n",
    "\n",
    "dlba_school_df_full_small = dlba_school_df_full_small.rename(columns={'Occupancy_Model:_Probability_Pct': 'occupancy_model_pct'})\n",
    "dlba_school_df_full_small = dlba_school_df_full_small[['Account_ID', 'Parcel_ID', 'Account_Name', 'Neighborhood_Sales_Median',\\\n",
    "                                            'occupancy_model_pct', 'dist_to_school',\\\n",
    "                                            'fire_dummy', 'usps_vacant_dummy', 'foreclosed_dummy',\\\n",
    "                                            'foreclosure_lag', 'boarding_needed_dummy', 'dumping_dummy', 'dng_dummy',\\\n",
    "                                            'mcm_good_dummy', 'mcm_fair_dummy', 'mcm_demo_dummy']]\n"
   ]
  },
  {
   "cell_type": "code",
   "execution_count": 12,
   "metadata": {
    "collapsed": false
   },
   "outputs": [
    {
     "name": "stderr",
     "output_type": "stream",
     "text": [
      "/Users/geoffperrin/anaconda2/lib/python2.7/site-packages/ipykernel/__main__.py:37: SettingWithCopyWarning: \n",
      "A value is trying to be set on a copy of a slice from a DataFrame\n",
      "\n",
      "See the caveats in the documentation: http://pandas.pydata.org/pandas-docs/stable/indexing.html#indexing-view-versus-copy\n"
     ]
    }
   ],
   "source": [
    "#need to only apply demo decision to above occupancy threshold & dlba owned properties\n",
    "#only keep DLBA Owned properties for the training data OR with a very high occupancy score\n",
    "\n",
    "no_demo_occupancy_thresh = 95.0\n",
    "dlba_school_df = dlba_school_df[(dlba_school_df['Property_Ownership'] == 'DLBA Owned') | \\\n",
    "                  (dlba_school_df['Occupancy_Model:_Probability_Pct'] > no_demo_occupancy_thresh)]\n",
    "\n",
    "#code up demo decision yes / no\n",
    "demo_decision_dict = {'Demo Awaiting Funding': 1,\n",
    "        'Demo Pipeline': 1,\n",
    "        'Demo Contracted': 1,\n",
    "        'Demo Review': 1,\n",
    "        'Demolished': 999,\n",
    "        'Construction Complete': 0,\n",
    "        'Occupied': 0,\n",
    "        'Sold': 0,\n",
    "        'Institutional Partner Coordination': 999,\n",
    "        'For Sale': 0,\n",
    "        'Sales Review': 0,\n",
    "        'Sales Pipeline': 0,\n",
    "        'Vacant Land': 999,\n",
    "        'Sales Hold': 0,\n",
    "        'Under Construction': 999,\n",
    "        'Lease/ROE/TLA': 999,\n",
    "        'Warehouse': 999,\n",
    "        'NPOC Isolation - Do not move!': 999,\n",
    "        'NSP Quarantine': 999,\n",
    "        'Reconveyance Complete': 999,\n",
    "        'Title Problem Identified': 999,\n",
    "        'DJ Quarantine': 999,\n",
    "        'PDD Quarantine': 999,\n",
    "        'Intake Review': 999}\n",
    "\n",
    "#if occupancy score > threshold, then no demo\n",
    "dlba_school_df['Current_Status']\\\n",
    "[dlba_school_df['Occupancy_Model:_Probability_Pct'] > no_demo_occupancy_thresh] = 'Occupied'\n",
    "\n",
    "#if MLB demo, then yes demo\n",
    "dlba_school_df['Current_Status']\\\n",
    "[dlba_school_df['Non-City_Demo_Program'] =='MLB Demo'] = 'Demo Pipeline'\n",
    "\n",
    "dlba_school_df['demo_decision'] = 0\n",
    "dlba_school_df['demo_decision'] = [demo_decision_dict[i] for i in dlba_school_df[\"Current_Status\"]]\n",
    "\n",
    "\n",
    "\n",
    "dlba_school_df = dlba_school_df[dlba_school_df['demo_decision'] != 999]"
   ]
  },
  {
   "cell_type": "code",
   "execution_count": 13,
   "metadata": {
    "collapsed": false
   },
   "outputs": [],
   "source": [
    "# only keep DLBA Owned properties for the training data OR with a very high occupancy score: we only want\n",
    "# labelled data in the training dataset\n",
    "\n",
    "dlba_school_df = dlba_school_df[(dlba_school_df['Property_Ownership'] == 'DLBA Owned') | \\\n",
    "                  (dlba_school_df['Occupancy_Model:_Probability_Pct'] > no_demo_occupancy_thresh)]\n",
    "\n",
    "dlba_school_df_small = dlba_school_df.drop(['Account_ID', 'Property_Ownership', 'Property_Class', 'Program', \\\n",
    "                                            'Current_Status', 'Current_Status_Date', 'Neighborhood', 'DNG_Number', \\\n",
    "                                            'WCT_Foreclosure_Status', \\\n",
    "                                            'MCM_Blext_Created_At', 'MCM_Structure', 'MCM_Occupancy',  'MCM_Use',\\\n",
    "                                           'MCM_Units', 'MCM_Residence_Type', 'MCM_Commercial_Use', 'MCM_Industrial_Use',\\\n",
    "                                           'MCM_Institutional_Use', 'MCM_Public_Use', 'MCM_Level_of_Fire_Damage', \\\n",
    "                                            'MCM_Trespass', 'MCM_Vacant_Lot', 'MCM_Maintained', 'DFD_Fire:_Occurrence_Date',\\\n",
    "                                           'USPS:_Vacancy_Indicated', 'Foreclosure_Year', 'MCM_Fire_Damage',\\\n",
    "                                           'USPS:_Last_Update', 'Occupancy_Model:_Last_Update', 'MCM_Boarding_Needed',\\\n",
    "                                           'MCM_Dumping', 'MCM_Condition'], 1)\n",
    "\n",
    "dlba_school_df_small = dlba_school_df_small.rename(columns={'Occupancy_Model:_Probability_Pct': 'occupancy_model_pct'})\n",
    "dlba_school_df_small = dlba_school_df_small[['Parcel_ID', 'Account_Name', 'demo_decision', 'Neighborhood_Sales_Median',\\\n",
    "                                            'occupancy_model_pct', 'dist_to_school',\\\n",
    "                                            'fire_dummy', 'usps_vacant_dummy', 'foreclosed_dummy',\\\n",
    "                                            'foreclosure_lag', 'boarding_needed_dummy', 'dumping_dummy', 'dng_dummy',\\\n",
    "                                            'mcm_good_dummy', 'mcm_fair_dummy', 'mcm_demo_dummy']]\n"
   ]
  },
  {
   "cell_type": "markdown",
   "metadata": {},
   "source": [
    "## Build Logit Classification Model"
   ]
  },
  {
   "cell_type": "code",
   "execution_count": 14,
   "metadata": {
    "collapsed": false
   },
   "outputs": [
    {
     "data": {
      "text/plain": [
       "LogisticRegression(C=1, class_weight=None, dual=False, fit_intercept=True,\n",
       "          intercept_scaling=1, max_iter=100, multi_class='ovr', n_jobs=1,\n",
       "          penalty='l2', random_state=None, solver='liblinear', tol=0.0001,\n",
       "          verbose=0, warm_start=False)"
      ]
     },
     "execution_count": 14,
     "metadata": {},
     "output_type": "execute_result"
    }
   ],
   "source": [
    "y = dlba_school_df_small.demo_decision\n",
    "X = dlba_school_df_small.iloc[:,3:]\n",
    "'''\n",
    "let's try this without the crossvalidation loop first\n",
    "\n",
    "\n",
    "for i in range(10):\n",
    "    X_train, X_test, y_train, y_test = train_test_split(X, y, test_size = 0.3, random_state = i)\n",
    "    \n",
    "    #learn logistic regression over the training sample\n",
    "    logit = LogisticRegression(C=1)\n",
    "    logit.fit(X_train, y_train)\n",
    "    # C here controls the regularization strength--which will be discussed in Bayesian session\n",
    "    # For now just keep in mind that setting a high value will make the regularization ineffective\n",
    "\n",
    "    #apply to the validation sample\n",
    "    labelPred = logit.predict(X_test)\n",
    "    #labelPred = logPred > 0.5\n",
    "    labelActual = y_test\n",
    "    \n",
    "'''    \n",
    "\n",
    "\n",
    "X_train, X_test, y_train, y_test = train_test_split(X, y, test_size = 0.3, random_state = 123)\n",
    "    \n",
    "#learn logistic regression over the training sample\n",
    "logit = LogisticRegression(C=1)\n",
    "logit.fit(X_train, y_train)\n",
    "# C here controls the regularization strength--which will be discussed in Bayesian session\n",
    "# For now just keep in mind that setting a high value will make the regularization ineffective"
   ]
  },
  {
   "cell_type": "markdown",
   "metadata": {},
   "source": [
    "### logit model - Accuracy"
   ]
  },
  {
   "cell_type": "code",
   "execution_count": 15,
   "metadata": {
    "collapsed": false
   },
   "outputs": [],
   "source": [
    "#apply to the validation sample\n",
    "labelPred = logit.predict(X_test)\n",
    "labelActual = y_test\n",
    "X_test_copy = X_test.copy()\n",
    "X_test_copy['logit_predict'] = logit.predict(X_test)"
   ]
  },
  {
   "cell_type": "code",
   "execution_count": 16,
   "metadata": {
    "collapsed": false
   },
   "outputs": [
    {
     "name": "stdout",
     "output_type": "stream",
     "text": [
      "Precision = 80.74%\n",
      "Accuracy = 96.73%\n",
      "Recall = 76.89%\n"
     ]
    }
   ],
   "source": [
    "#compute TP,FP,FN,TN for the above classification\n",
    "TP = sum((labelPred==1)&(labelActual==1))\n",
    "FP = sum((labelPred==1)&(labelActual==0))\n",
    "FN = sum((labelPred==0)&(labelActual==1))\n",
    "TN = sum((labelPred==0)&(labelActual==0))\n",
    "\n",
    "#compute precision, accuracy and recall\n",
    "Acc = 100.0 * (TP+TN)/(TP+TN+FP+FN)\n",
    "Rec = 100.0 * TP/(TP+FN)\n",
    "Prec= 100.0 * TP/(TP+FP)\n",
    "print('Precision = %.2f%%\\nAccuracy = %.2f%%\\nRecall = %.2f%%'%(Prec,Acc,Rec))"
   ]
  },
  {
   "cell_type": "markdown",
   "metadata": {},
   "source": [
    "#### look at auc"
   ]
  },
  {
   "cell_type": "code",
   "execution_count": 17,
   "metadata": {
    "collapsed": false
   },
   "outputs": [
    {
     "name": "stdout",
     "output_type": "stream",
     "text": [
      "0.989015253436\n"
     ]
    }
   ],
   "source": [
    "res=[]\n",
    "for i in range(1,20):\n",
    "    X_train, X_test, y_train, y_test = train_test_split(X, y, test_size = 0.3, random_state = i)\n",
    "    pred=logit.predict_proba(X_test)[:,1]\n",
    "    res.append(rs(np.array(y_test.apply(int)),pred))\n",
    "    #print rs(np.array(y_test.apply(int)),pred)\n",
    "print np.mean(res)"
   ]
  },
  {
   "cell_type": "markdown",
   "metadata": {},
   "source": [
    "## Build Random Forest Classification Model"
   ]
  },
  {
   "cell_type": "code",
   "execution_count": 18,
   "metadata": {
    "collapsed": false
   },
   "outputs": [
    {
     "data": {
      "text/plain": [
       "GridSearchCV(cv=None, error_score='raise',\n",
       "       estimator=RandomForestClassifier(bootstrap=True, class_weight=None, criterion='gini',\n",
       "            max_depth=None, max_features='auto', max_leaf_nodes=None,\n",
       "            min_impurity_split=1e-07, min_samples_leaf=1,\n",
       "            min_samples_split=2, min_weight_fraction_leaf=0.0,\n",
       "            n_estimators=10, n_jobs=1, oob_score=False, random_state=None,\n",
       "            verbose=0, warm_start=False),\n",
       "       fit_params={}, iid=True, n_jobs=1,\n",
       "       param_grid={'n_estimators': array([  1, 101, 201, 301, 401, 501]), 'max_depth': [3, 5, 7, 9]},\n",
       "       pre_dispatch='2*n_jobs', refit=True, return_train_score=True,\n",
       "       scoring=None, verbose=0)"
      ]
     },
     "execution_count": 18,
     "metadata": {},
     "output_type": "execute_result"
    }
   ],
   "source": [
    "r_tree = RFC()\n",
    "param_grid = {'max_depth': [3, 5, 7, 9], 'n_estimators': np.arange(1,502,100)}\n",
    "r_tree_tuned = GridSearchCV(r_tree, param_grid)\n",
    "#r_tree_optimum = RFC(r_tree_tuned.best_estimator_)\n",
    "r_tree_tuned.fit(X_train, y_train)"
   ]
  },
  {
   "cell_type": "code",
   "execution_count": 19,
   "metadata": {
    "collapsed": false
   },
   "outputs": [],
   "source": [
    "feature_importance = r_tree_tuned.best_estimator_.fit(X_train, y_train).feature_importances_"
   ]
  },
  {
   "cell_type": "code",
   "execution_count": 20,
   "metadata": {
    "collapsed": false
   },
   "outputs": [
    {
     "data": {
      "text/html": [
       "<div>\n",
       "<table border=\"1\" class=\"dataframe\">\n",
       "  <thead>\n",
       "    <tr style=\"text-align: right;\">\n",
       "      <th></th>\n",
       "      <th>variables</th>\n",
       "      <th>importance</th>\n",
       "    </tr>\n",
       "  </thead>\n",
       "  <tbody>\n",
       "    <tr>\n",
       "      <th>1</th>\n",
       "      <td>occupancy_model_pct</td>\n",
       "      <td>0.349819</td>\n",
       "    </tr>\n",
       "    <tr>\n",
       "      <th>9</th>\n",
       "      <td>dng_dummy</td>\n",
       "      <td>0.174154</td>\n",
       "    </tr>\n",
       "    <tr>\n",
       "      <th>7</th>\n",
       "      <td>boarding_needed_dummy</td>\n",
       "      <td>0.120547</td>\n",
       "    </tr>\n",
       "    <tr>\n",
       "      <th>12</th>\n",
       "      <td>mcm_demo_dummy</td>\n",
       "      <td>0.120015</td>\n",
       "    </tr>\n",
       "    <tr>\n",
       "      <th>10</th>\n",
       "      <td>mcm_good_dummy</td>\n",
       "      <td>0.0604024</td>\n",
       "    </tr>\n",
       "    <tr>\n",
       "      <th>11</th>\n",
       "      <td>mcm_fair_dummy</td>\n",
       "      <td>0.0431955</td>\n",
       "    </tr>\n",
       "    <tr>\n",
       "      <th>8</th>\n",
       "      <td>dumping_dummy</td>\n",
       "      <td>0.0421793</td>\n",
       "    </tr>\n",
       "    <tr>\n",
       "      <th>6</th>\n",
       "      <td>foreclosure_lag</td>\n",
       "      <td>0.0303107</td>\n",
       "    </tr>\n",
       "    <tr>\n",
       "      <th>5</th>\n",
       "      <td>foreclosed_dummy</td>\n",
       "      <td>0.0236433</td>\n",
       "    </tr>\n",
       "    <tr>\n",
       "      <th>0</th>\n",
       "      <td>Neighborhood_Sales_Median</td>\n",
       "      <td>0.0179195</td>\n",
       "    </tr>\n",
       "    <tr>\n",
       "      <th>2</th>\n",
       "      <td>dist_to_school</td>\n",
       "      <td>0.0125628</td>\n",
       "    </tr>\n",
       "    <tr>\n",
       "      <th>3</th>\n",
       "      <td>fire_dummy</td>\n",
       "      <td>0.00334159</td>\n",
       "    </tr>\n",
       "    <tr>\n",
       "      <th>4</th>\n",
       "      <td>usps_vacant_dummy</td>\n",
       "      <td>0.00191028</td>\n",
       "    </tr>\n",
       "  </tbody>\n",
       "</table>\n",
       "</div>"
      ],
      "text/plain": [
       "                    variables  importance\n",
       "1         occupancy_model_pct    0.349819\n",
       "9                   dng_dummy    0.174154\n",
       "7       boarding_needed_dummy    0.120547\n",
       "12             mcm_demo_dummy    0.120015\n",
       "10             mcm_good_dummy   0.0604024\n",
       "11             mcm_fair_dummy   0.0431955\n",
       "8               dumping_dummy   0.0421793\n",
       "6             foreclosure_lag   0.0303107\n",
       "5            foreclosed_dummy   0.0236433\n",
       "0   Neighborhood_Sales_Median   0.0179195\n",
       "2              dist_to_school   0.0125628\n",
       "3                  fire_dummy  0.00334159\n",
       "4           usps_vacant_dummy  0.00191028"
      ]
     },
     "execution_count": 20,
     "metadata": {},
     "output_type": "execute_result"
    }
   ],
   "source": [
    "Feature_importance_df = pd.DataFrame([list(X_train.columns), list(feature_importance)]).T\n",
    "Feature_importance_df.columns = [\"variables\", \"importance\"]\n",
    "Feature_importance_df.sort_values(by=\"importance\", ascending=False)"
   ]
  },
  {
   "cell_type": "markdown",
   "metadata": {},
   "source": [
    "### random forest model - Accuracy"
   ]
  },
  {
   "cell_type": "code",
   "execution_count": 21,
   "metadata": {
    "collapsed": false
   },
   "outputs": [
    {
     "data": {
      "text/plain": [
       "3459"
      ]
     },
     "execution_count": 21,
     "metadata": {},
     "output_type": "execute_result"
    }
   ],
   "source": [
    "#apply to the validation sample\n",
    "labelPred = r_tree_tuned.predict(X_test)\n",
    "labelPred_cont = r_tree_tuned.predict_proba(X_test)[:,1]\n",
    "labelActual = y_test\n",
    "X_test_copy['r_tree_predict'] = r_tree_tuned.predict(X_test)\n",
    "X_test_copy['labelActual'] = y_test\n",
    "sum(labelPred)"
   ]
  },
  {
   "cell_type": "markdown",
   "metadata": {},
   "source": [
    "#### look at precision / accuracy / recall"
   ]
  },
  {
   "cell_type": "code",
   "execution_count": 22,
   "metadata": {
    "collapsed": false
   },
   "outputs": [
    {
     "name": "stdout",
     "output_type": "stream",
     "text": [
      "Precision = 81.41%\n",
      "Accuracy = 96.72%\n",
      "Recall = 78.35%\n"
     ]
    }
   ],
   "source": [
    "#compute TP,FP,FN,TN for the above classification\n",
    "TP = sum((labelPred==1)&(labelActual==1))\n",
    "FP = sum((labelPred==1)&(labelActual==0))\n",
    "FN = sum((labelPred==0)&(labelActual==1))\n",
    "TN = sum((labelPred==0)&(labelActual==0))\n",
    "\n",
    "#compute precision, accuracy and recall\n",
    "Prec= 100.0 * TP/(TP+FP)\n",
    "Acc = 100.0 * (TP+TN)/(TP+TN+FP+FN)\n",
    "Rec = 100.0 * TP/(TP+FN)\n",
    "print('Precision = %.2f%%\\nAccuracy = %.2f%%\\nRecall = %.2f%%'%(Prec,Acc,Rec))"
   ]
  },
  {
   "cell_type": "markdown",
   "metadata": {},
   "source": [
    "#### look at auc"
   ]
  },
  {
   "cell_type": "code",
   "execution_count": 23,
   "metadata": {
    "collapsed": false
   },
   "outputs": [
    {
     "name": "stdout",
     "output_type": "stream",
     "text": [
      "0.991395341422\n"
     ]
    }
   ],
   "source": [
    "res=[]\n",
    "for i in range(1,20):\n",
    "    X_train, X_test, y_train, y_test = train_test_split(X, y, test_size = 0.3, random_state = i)\n",
    "    pred=r_tree_tuned.predict_proba(X_test)[:,1]\n",
    "    res.append(rs(np.array(y_test.apply(int)),pred))\n",
    "print np.mean(res)"
   ]
  },
  {
   "cell_type": "markdown",
   "metadata": {
    "collapsed": true
   },
   "source": [
    "### Determine optimal threshold for maximizing true positives and minimizing false negatives"
   ]
  },
  {
   "cell_type": "code",
   "execution_count": 24,
   "metadata": {
    "collapsed": false
   },
   "outputs": [
    {
     "name": "stderr",
     "output_type": "stream",
     "text": [
      "/Users/geoffperrin/anaconda2/lib/python2.7/site-packages/ipykernel/__main__.py:10: FutureWarning: sort(columns=....) is deprecated, use sort_values(by=.....)\n"
     ]
    },
    {
     "name": "stdout",
     "output_type": "stream",
     "text": [
      "0.47953872797\n"
     ]
    }
   ],
   "source": [
    "#do a 20 fold split and take average cutoff point of all splits\n",
    "cutoff_list = []\n",
    "for i in range(1,20):\n",
    "    X_train, X_test, y_train, y_test = train_test_split(X, y, test_size = 0.3, random_state = i)\n",
    "    pred=r_tree_tuned.predict_proba(X_test)[:,1]\n",
    "    fpr, tpr, thresholds = metrics.roc_curve(y_test, pred)\n",
    "    threshold_df = pd.DataFrame({'fpr':fpr, 'tpr':tpr, 'thresholds':thresholds})\n",
    "    threshold_df['tpr_plus_one_minus_fpr'] = threshold_df.tpr + 10*(1-threshold_df.fpr)\n",
    "    threshold_df = threshold_df.sort(['tpr_plus_one_minus_fpr'], ascending=False)\n",
    "    threshold_df = threshold_df.reset_index()\n",
    "    cutoff_list.append(threshold_df.thresholds[0])\n",
    "\n",
    "avg_cutoff = np.mean(cutoff_list)\n",
    "print avg_cutoff"
   ]
  },
  {
   "cell_type": "code",
   "execution_count": 60,
   "metadata": {
    "collapsed": false
   },
   "outputs": [
    {
     "name": "stderr",
     "output_type": "stream",
     "text": [
      "/Users/geoffperrin/anaconda2/lib/python2.7/site-packages/ipykernel/__main__.py:7: FutureWarning: sort(columns=....) is deprecated, use sort_values(by=.....)\n"
     ]
    }
   ],
   "source": [
    "### sample tpr / fpr rate for a given test / train split\n",
    "X_train, X_test, y_train, y_test = train_test_split(X, y, test_size = 0.3, random_state = i)\n",
    "pred=r_tree_tuned.predict_proba(X_test)[:,1]\n",
    "fpr, tpr, thresholds = metrics.roc_curve(y_test, pred)\n",
    "threshold_df = pd.DataFrame({'fpr':fpr, 'tpr':tpr, 'thresholds':thresholds})\n",
    "threshold_df['value_to_maximize'] = threshold_df.tpr + 10*(1-threshold_df.fpr)\n",
    "threshold_df = threshold_df.sort(['value_to_maximize'], ascending=False)\n",
    "#threshold_df = threshold_df.reset_index()"
   ]
  },
  {
   "cell_type": "code",
   "execution_count": 61,
   "metadata": {
    "collapsed": false
   },
   "outputs": [
    {
     "data": {
      "text/html": [
       "<div>\n",
       "<table border=\"1\" class=\"dataframe\">\n",
       "  <thead>\n",
       "    <tr style=\"text-align: right;\">\n",
       "      <th></th>\n",
       "      <th>fpr</th>\n",
       "      <th>thresholds</th>\n",
       "      <th>tpr</th>\n",
       "      <th>value_to_maximize</th>\n",
       "    </tr>\n",
       "  </thead>\n",
       "  <tbody>\n",
       "    <tr>\n",
       "      <th>847</th>\n",
       "      <td>0.014007</td>\n",
       "      <td>0.528005</td>\n",
       "      <td>0.766277</td>\n",
       "      <td>10.626206</td>\n",
       "    </tr>\n",
       "    <tr>\n",
       "      <th>845</th>\n",
       "      <td>0.013957</td>\n",
       "      <td>0.528877</td>\n",
       "      <td>0.765442</td>\n",
       "      <td>10.625875</td>\n",
       "    </tr>\n",
       "    <tr>\n",
       "      <th>839</th>\n",
       "      <td>0.013780</td>\n",
       "      <td>0.530720</td>\n",
       "      <td>0.763495</td>\n",
       "      <td>10.625691</td>\n",
       "    </tr>\n",
       "    <tr>\n",
       "      <th>843</th>\n",
       "      <td>0.013932</td>\n",
       "      <td>0.529154</td>\n",
       "      <td>0.764886</td>\n",
       "      <td>10.625570</td>\n",
       "    </tr>\n",
       "    <tr>\n",
       "      <th>846</th>\n",
       "      <td>0.014007</td>\n",
       "      <td>0.528773</td>\n",
       "      <td>0.765442</td>\n",
       "      <td>10.625371</td>\n",
       "    </tr>\n",
       "    <tr>\n",
       "      <th>844</th>\n",
       "      <td>0.013957</td>\n",
       "      <td>0.529091</td>\n",
       "      <td>0.764886</td>\n",
       "      <td>10.625318</td>\n",
       "    </tr>\n",
       "    <tr>\n",
       "      <th>841</th>\n",
       "      <td>0.013906</td>\n",
       "      <td>0.529526</td>\n",
       "      <td>0.764329</td>\n",
       "      <td>10.625266</td>\n",
       "    </tr>\n",
       "    <tr>\n",
       "      <th>837</th>\n",
       "      <td>0.013755</td>\n",
       "      <td>0.531166</td>\n",
       "      <td>0.762660</td>\n",
       "      <td>10.625108</td>\n",
       "    </tr>\n",
       "    <tr>\n",
       "      <th>850</th>\n",
       "      <td>0.014209</td>\n",
       "      <td>0.526356</td>\n",
       "      <td>0.767112</td>\n",
       "      <td>10.625025</td>\n",
       "    </tr>\n",
       "    <tr>\n",
       "      <th>842</th>\n",
       "      <td>0.013932</td>\n",
       "      <td>0.529501</td>\n",
       "      <td>0.764329</td>\n",
       "      <td>10.625014</td>\n",
       "    </tr>\n",
       "    <tr>\n",
       "      <th>838</th>\n",
       "      <td>0.013780</td>\n",
       "      <td>0.531140</td>\n",
       "      <td>0.762660</td>\n",
       "      <td>10.624856</td>\n",
       "    </tr>\n",
       "    <tr>\n",
       "      <th>815</th>\n",
       "      <td>0.013176</td>\n",
       "      <td>0.536396</td>\n",
       "      <td>0.756260</td>\n",
       "      <td>10.624502</td>\n",
       "    </tr>\n",
       "    <tr>\n",
       "      <th>849</th>\n",
       "      <td>0.014209</td>\n",
       "      <td>0.526540</td>\n",
       "      <td>0.766555</td>\n",
       "      <td>10.624468</td>\n",
       "    </tr>\n",
       "    <tr>\n",
       "      <th>848</th>\n",
       "      <td>0.014184</td>\n",
       "      <td>0.526747</td>\n",
       "      <td>0.766277</td>\n",
       "      <td>10.624442</td>\n",
       "    </tr>\n",
       "    <tr>\n",
       "      <th>840</th>\n",
       "      <td>0.013906</td>\n",
       "      <td>0.529980</td>\n",
       "      <td>0.763495</td>\n",
       "      <td>10.624431</td>\n",
       "    </tr>\n",
       "    <tr>\n",
       "      <th>942</th>\n",
       "      <td>0.016526</td>\n",
       "      <td>0.492787</td>\n",
       "      <td>0.789649</td>\n",
       "      <td>10.624385</td>\n",
       "    </tr>\n",
       "    <tr>\n",
       "      <th>821</th>\n",
       "      <td>0.013327</td>\n",
       "      <td>0.535088</td>\n",
       "      <td>0.757652</td>\n",
       "      <td>10.624382</td>\n",
       "    </tr>\n",
       "    <tr>\n",
       "      <th>940</th>\n",
       "      <td>0.016476</td>\n",
       "      <td>0.493450</td>\n",
       "      <td>0.789093</td>\n",
       "      <td>10.624333</td>\n",
       "    </tr>\n",
       "    <tr>\n",
       "      <th>938</th>\n",
       "      <td>0.016451</td>\n",
       "      <td>0.493780</td>\n",
       "      <td>0.788815</td>\n",
       "      <td>10.624306</td>\n",
       "    </tr>\n",
       "    <tr>\n",
       "      <th>817</th>\n",
       "      <td>0.013251</td>\n",
       "      <td>0.536042</td>\n",
       "      <td>0.756817</td>\n",
       "      <td>10.624303</td>\n",
       "    </tr>\n",
       "    <tr>\n",
       "      <th>854</th>\n",
       "      <td>0.014385</td>\n",
       "      <td>0.524876</td>\n",
       "      <td>0.767947</td>\n",
       "      <td>10.624096</td>\n",
       "    </tr>\n",
       "    <tr>\n",
       "      <th>819</th>\n",
       "      <td>0.013302</td>\n",
       "      <td>0.535767</td>\n",
       "      <td>0.757095</td>\n",
       "      <td>10.624078</td>\n",
       "    </tr>\n",
       "    <tr>\n",
       "      <th>982</th>\n",
       "      <td>0.017811</td>\n",
       "      <td>0.474021</td>\n",
       "      <td>0.802170</td>\n",
       "      <td>10.624058</td>\n",
       "    </tr>\n",
       "    <tr>\n",
       "      <th>939</th>\n",
       "      <td>0.016476</td>\n",
       "      <td>0.493489</td>\n",
       "      <td>0.788815</td>\n",
       "      <td>10.624054</td>\n",
       "    </tr>\n",
       "    <tr>\n",
       "      <th>813</th>\n",
       "      <td>0.013151</td>\n",
       "      <td>0.536920</td>\n",
       "      <td>0.755426</td>\n",
       "      <td>10.623920</td>\n",
       "    </tr>\n",
       "    <tr>\n",
       "      <th>941</th>\n",
       "      <td>0.016526</td>\n",
       "      <td>0.492963</td>\n",
       "      <td>0.789093</td>\n",
       "      <td>10.623829</td>\n",
       "    </tr>\n",
       "    <tr>\n",
       "      <th>820</th>\n",
       "      <td>0.013327</td>\n",
       "      <td>0.535752</td>\n",
       "      <td>0.757095</td>\n",
       "      <td>10.623826</td>\n",
       "    </tr>\n",
       "    <tr>\n",
       "      <th>818</th>\n",
       "      <td>0.013302</td>\n",
       "      <td>0.535795</td>\n",
       "      <td>0.756817</td>\n",
       "      <td>10.623799</td>\n",
       "    </tr>\n",
       "    <tr>\n",
       "      <th>852</th>\n",
       "      <td>0.014360</td>\n",
       "      <td>0.525557</td>\n",
       "      <td>0.767390</td>\n",
       "      <td>10.623792</td>\n",
       "    </tr>\n",
       "    <tr>\n",
       "      <th>980</th>\n",
       "      <td>0.017786</td>\n",
       "      <td>0.475733</td>\n",
       "      <td>0.801614</td>\n",
       "      <td>10.623753</td>\n",
       "    </tr>\n",
       "    <tr>\n",
       "      <th>...</th>\n",
       "      <td>...</td>\n",
       "      <td>...</td>\n",
       "      <td>...</td>\n",
       "      <td>...</td>\n",
       "    </tr>\n",
       "    <tr>\n",
       "      <th>6596</th>\n",
       "      <td>0.967123</td>\n",
       "      <td>0.000117</td>\n",
       "      <td>1.000000</td>\n",
       "      <td>1.328765</td>\n",
       "    </tr>\n",
       "    <tr>\n",
       "      <th>6597</th>\n",
       "      <td>0.967199</td>\n",
       "      <td>0.000116</td>\n",
       "      <td>1.000000</td>\n",
       "      <td>1.328009</td>\n",
       "    </tr>\n",
       "    <tr>\n",
       "      <th>6598</th>\n",
       "      <td>0.967350</td>\n",
       "      <td>0.000116</td>\n",
       "      <td>1.000000</td>\n",
       "      <td>1.326498</td>\n",
       "    </tr>\n",
       "    <tr>\n",
       "      <th>6599</th>\n",
       "      <td>0.967426</td>\n",
       "      <td>0.000116</td>\n",
       "      <td>1.000000</td>\n",
       "      <td>1.325742</td>\n",
       "    </tr>\n",
       "    <tr>\n",
       "      <th>6600</th>\n",
       "      <td>0.968056</td>\n",
       "      <td>0.000116</td>\n",
       "      <td>1.000000</td>\n",
       "      <td>1.319444</td>\n",
       "    </tr>\n",
       "    <tr>\n",
       "      <th>6601</th>\n",
       "      <td>0.969844</td>\n",
       "      <td>0.000115</td>\n",
       "      <td>1.000000</td>\n",
       "      <td>1.301557</td>\n",
       "    </tr>\n",
       "    <tr>\n",
       "      <th>6602</th>\n",
       "      <td>0.969995</td>\n",
       "      <td>0.000115</td>\n",
       "      <td>1.000000</td>\n",
       "      <td>1.300045</td>\n",
       "    </tr>\n",
       "    <tr>\n",
       "      <th>6603</th>\n",
       "      <td>0.971960</td>\n",
       "      <td>0.000115</td>\n",
       "      <td>1.000000</td>\n",
       "      <td>1.280395</td>\n",
       "    </tr>\n",
       "    <tr>\n",
       "      <th>6604</th>\n",
       "      <td>0.972338</td>\n",
       "      <td>0.000115</td>\n",
       "      <td>1.000000</td>\n",
       "      <td>1.276616</td>\n",
       "    </tr>\n",
       "    <tr>\n",
       "      <th>6605</th>\n",
       "      <td>0.978763</td>\n",
       "      <td>0.000115</td>\n",
       "      <td>1.000000</td>\n",
       "      <td>1.212375</td>\n",
       "    </tr>\n",
       "    <tr>\n",
       "      <th>6606</th>\n",
       "      <td>0.979619</td>\n",
       "      <td>0.000115</td>\n",
       "      <td>1.000000</td>\n",
       "      <td>1.203809</td>\n",
       "    </tr>\n",
       "    <tr>\n",
       "      <th>6607</th>\n",
       "      <td>0.980778</td>\n",
       "      <td>0.000115</td>\n",
       "      <td>1.000000</td>\n",
       "      <td>1.192220</td>\n",
       "    </tr>\n",
       "    <tr>\n",
       "      <th>6608</th>\n",
       "      <td>0.982819</td>\n",
       "      <td>0.000115</td>\n",
       "      <td>1.000000</td>\n",
       "      <td>1.171814</td>\n",
       "    </tr>\n",
       "    <tr>\n",
       "      <th>6609</th>\n",
       "      <td>0.983096</td>\n",
       "      <td>0.000115</td>\n",
       "      <td>1.000000</td>\n",
       "      <td>1.169043</td>\n",
       "    </tr>\n",
       "    <tr>\n",
       "      <th>6610</th>\n",
       "      <td>0.983121</td>\n",
       "      <td>0.000115</td>\n",
       "      <td>1.000000</td>\n",
       "      <td>1.168791</td>\n",
       "    </tr>\n",
       "    <tr>\n",
       "      <th>6611</th>\n",
       "      <td>0.983322</td>\n",
       "      <td>0.000115</td>\n",
       "      <td>1.000000</td>\n",
       "      <td>1.166776</td>\n",
       "    </tr>\n",
       "    <tr>\n",
       "      <th>6612</th>\n",
       "      <td>0.983373</td>\n",
       "      <td>0.000115</td>\n",
       "      <td>1.000000</td>\n",
       "      <td>1.166272</td>\n",
       "    </tr>\n",
       "    <tr>\n",
       "      <th>6613</th>\n",
       "      <td>0.990628</td>\n",
       "      <td>0.000115</td>\n",
       "      <td>1.000000</td>\n",
       "      <td>1.093717</td>\n",
       "    </tr>\n",
       "    <tr>\n",
       "      <th>6614</th>\n",
       "      <td>0.991938</td>\n",
       "      <td>0.000114</td>\n",
       "      <td>1.000000</td>\n",
       "      <td>1.080617</td>\n",
       "    </tr>\n",
       "    <tr>\n",
       "      <th>6615</th>\n",
       "      <td>0.992064</td>\n",
       "      <td>0.000114</td>\n",
       "      <td>1.000000</td>\n",
       "      <td>1.079357</td>\n",
       "    </tr>\n",
       "    <tr>\n",
       "      <th>6616</th>\n",
       "      <td>0.992593</td>\n",
       "      <td>0.000114</td>\n",
       "      <td>1.000000</td>\n",
       "      <td>1.074067</td>\n",
       "    </tr>\n",
       "    <tr>\n",
       "      <th>6617</th>\n",
       "      <td>0.992845</td>\n",
       "      <td>0.000114</td>\n",
       "      <td>1.000000</td>\n",
       "      <td>1.071547</td>\n",
       "    </tr>\n",
       "    <tr>\n",
       "      <th>6618</th>\n",
       "      <td>0.993022</td>\n",
       "      <td>0.000114</td>\n",
       "      <td>1.000000</td>\n",
       "      <td>1.069784</td>\n",
       "    </tr>\n",
       "    <tr>\n",
       "      <th>6619</th>\n",
       "      <td>0.993450</td>\n",
       "      <td>0.000114</td>\n",
       "      <td>1.000000</td>\n",
       "      <td>1.065501</td>\n",
       "    </tr>\n",
       "    <tr>\n",
       "      <th>6620</th>\n",
       "      <td>0.994609</td>\n",
       "      <td>0.000114</td>\n",
       "      <td>1.000000</td>\n",
       "      <td>1.053912</td>\n",
       "    </tr>\n",
       "    <tr>\n",
       "      <th>6621</th>\n",
       "      <td>0.995541</td>\n",
       "      <td>0.000114</td>\n",
       "      <td>1.000000</td>\n",
       "      <td>1.044591</td>\n",
       "    </tr>\n",
       "    <tr>\n",
       "      <th>6622</th>\n",
       "      <td>0.995692</td>\n",
       "      <td>0.000114</td>\n",
       "      <td>1.000000</td>\n",
       "      <td>1.043080</td>\n",
       "    </tr>\n",
       "    <tr>\n",
       "      <th>6623</th>\n",
       "      <td>0.996675</td>\n",
       "      <td>0.000114</td>\n",
       "      <td>1.000000</td>\n",
       "      <td>1.033254</td>\n",
       "    </tr>\n",
       "    <tr>\n",
       "      <th>6624</th>\n",
       "      <td>0.999748</td>\n",
       "      <td>0.000114</td>\n",
       "      <td>1.000000</td>\n",
       "      <td>1.002519</td>\n",
       "    </tr>\n",
       "    <tr>\n",
       "      <th>6625</th>\n",
       "      <td>1.000000</td>\n",
       "      <td>0.000114</td>\n",
       "      <td>1.000000</td>\n",
       "      <td>1.000000</td>\n",
       "    </tr>\n",
       "  </tbody>\n",
       "</table>\n",
       "<p>6626 rows × 4 columns</p>\n",
       "</div>"
      ],
      "text/plain": [
       "           fpr  thresholds       tpr  value_to_maximize\n",
       "847   0.014007    0.528005  0.766277          10.626206\n",
       "845   0.013957    0.528877  0.765442          10.625875\n",
       "839   0.013780    0.530720  0.763495          10.625691\n",
       "843   0.013932    0.529154  0.764886          10.625570\n",
       "846   0.014007    0.528773  0.765442          10.625371\n",
       "844   0.013957    0.529091  0.764886          10.625318\n",
       "841   0.013906    0.529526  0.764329          10.625266\n",
       "837   0.013755    0.531166  0.762660          10.625108\n",
       "850   0.014209    0.526356  0.767112          10.625025\n",
       "842   0.013932    0.529501  0.764329          10.625014\n",
       "838   0.013780    0.531140  0.762660          10.624856\n",
       "815   0.013176    0.536396  0.756260          10.624502\n",
       "849   0.014209    0.526540  0.766555          10.624468\n",
       "848   0.014184    0.526747  0.766277          10.624442\n",
       "840   0.013906    0.529980  0.763495          10.624431\n",
       "942   0.016526    0.492787  0.789649          10.624385\n",
       "821   0.013327    0.535088  0.757652          10.624382\n",
       "940   0.016476    0.493450  0.789093          10.624333\n",
       "938   0.016451    0.493780  0.788815          10.624306\n",
       "817   0.013251    0.536042  0.756817          10.624303\n",
       "854   0.014385    0.524876  0.767947          10.624096\n",
       "819   0.013302    0.535767  0.757095          10.624078\n",
       "982   0.017811    0.474021  0.802170          10.624058\n",
       "939   0.016476    0.493489  0.788815          10.624054\n",
       "813   0.013151    0.536920  0.755426          10.623920\n",
       "941   0.016526    0.492963  0.789093          10.623829\n",
       "820   0.013327    0.535752  0.757095          10.623826\n",
       "818   0.013302    0.535795  0.756817          10.623799\n",
       "852   0.014360    0.525557  0.767390          10.623792\n",
       "980   0.017786    0.475733  0.801614          10.623753\n",
       "...        ...         ...       ...                ...\n",
       "6596  0.967123    0.000117  1.000000           1.328765\n",
       "6597  0.967199    0.000116  1.000000           1.328009\n",
       "6598  0.967350    0.000116  1.000000           1.326498\n",
       "6599  0.967426    0.000116  1.000000           1.325742\n",
       "6600  0.968056    0.000116  1.000000           1.319444\n",
       "6601  0.969844    0.000115  1.000000           1.301557\n",
       "6602  0.969995    0.000115  1.000000           1.300045\n",
       "6603  0.971960    0.000115  1.000000           1.280395\n",
       "6604  0.972338    0.000115  1.000000           1.276616\n",
       "6605  0.978763    0.000115  1.000000           1.212375\n",
       "6606  0.979619    0.000115  1.000000           1.203809\n",
       "6607  0.980778    0.000115  1.000000           1.192220\n",
       "6608  0.982819    0.000115  1.000000           1.171814\n",
       "6609  0.983096    0.000115  1.000000           1.169043\n",
       "6610  0.983121    0.000115  1.000000           1.168791\n",
       "6611  0.983322    0.000115  1.000000           1.166776\n",
       "6612  0.983373    0.000115  1.000000           1.166272\n",
       "6613  0.990628    0.000115  1.000000           1.093717\n",
       "6614  0.991938    0.000114  1.000000           1.080617\n",
       "6615  0.992064    0.000114  1.000000           1.079357\n",
       "6616  0.992593    0.000114  1.000000           1.074067\n",
       "6617  0.992845    0.000114  1.000000           1.071547\n",
       "6618  0.993022    0.000114  1.000000           1.069784\n",
       "6619  0.993450    0.000114  1.000000           1.065501\n",
       "6620  0.994609    0.000114  1.000000           1.053912\n",
       "6621  0.995541    0.000114  1.000000           1.044591\n",
       "6622  0.995692    0.000114  1.000000           1.043080\n",
       "6623  0.996675    0.000114  1.000000           1.033254\n",
       "6624  0.999748    0.000114  1.000000           1.002519\n",
       "6625  1.000000    0.000114  1.000000           1.000000\n",
       "\n",
       "[6626 rows x 4 columns]"
      ]
     },
     "execution_count": 61,
     "metadata": {},
     "output_type": "execute_result"
    }
   ],
   "source": [
    "threshold_df"
   ]
  },
  {
   "cell_type": "code",
   "execution_count": 53,
   "metadata": {
    "collapsed": false
   },
   "outputs": [
    {
     "data": {
      "image/png": "[encoded data removed]",
      "text/plain": [
       "<matplotlib.figure.Figure at 0x11e162710>"
      ]
     },
     "metadata": {},
     "output_type": "display_data"
    }
   ],
   "source": [
    "#Plot of a ROC curve for a specific class\n",
    "plt.figure()\n",
    "#lw = 2\n",
    "plt.plot(fpr, tpr, color='darkorange',\n",
    "         lw=lw, label='ROC curve (area = %0.2f)' % roc_auc)\n",
    "plt.plot([0, 1], [0, 1], color='navy', lw=lw, linestyle='--')\n",
    "plt.xlim([0.0, 1.0])\n",
    "plt.ylim([0.0, 1.05])\n",
    "plt.xlabel('False Positive Rate')\n",
    "plt.ylabel('True Positive Rate')\n",
    "plt.title('Receiver operating characteristic example')\n",
    "plt.legend(loc=\"lower right\")\n",
    "plt.show()"
   ]
  },
  {
   "cell_type": "code",
   "execution_count": 26,
   "metadata": {
    "collapsed": false
   },
   "outputs": [],
   "source": [
    "labelPred_w_threshold = labelPred_cont.copy()\n",
    "labelPred_w_threshold[labelPred_w_threshold >= avg_cutoff] = 1\n",
    "labelPred_w_threshold[labelPred_w_threshold < avg_cutoff] = 0"
   ]
  },
  {
   "cell_type": "code",
   "execution_count": 27,
   "metadata": {
    "collapsed": false,
    "scrolled": true
   },
   "outputs": [
    {
     "data": {
      "text/plain": [
       "array([ 0.,  0.,  0., ...,  1.,  0.,  0.])"
      ]
     },
     "execution_count": 27,
     "metadata": {},
     "output_type": "execute_result"
    }
   ],
   "source": [
    "labelPred_w_threshold"
   ]
  },
  {
   "cell_type": "code",
   "execution_count": 28,
   "metadata": {
    "collapsed": false,
    "scrolled": false
   },
   "outputs": [
    {
     "data": {
      "text/plain": [
       "3567.0"
      ]
     },
     "execution_count": 28,
     "metadata": {},
     "output_type": "execute_result"
    }
   ],
   "source": [
    "sum(labelPred_w_threshold)"
   ]
  },
  {
   "cell_type": "code",
   "execution_count": 29,
   "metadata": {
    "collapsed": false,
    "scrolled": true
   },
   "outputs": [
    {
     "data": {
      "text/plain": [
       "3459"
      ]
     },
     "execution_count": 29,
     "metadata": {},
     "output_type": "execute_result"
    }
   ],
   "source": [
    "sum(labelPred)"
   ]
  },
  {
   "cell_type": "code",
   "execution_count": 30,
   "metadata": {
    "collapsed": false
   },
   "outputs": [
    {
     "name": "stdout",
     "output_type": "stream",
     "text": [
      "Precision = 80.38%\n",
      "Accuracy = 96.70%\n",
      "Recall = 79.77%\n"
     ]
    }
   ],
   "source": [
    "#compute TP,FP,FN,TN for the above classification\n",
    "TP = sum((labelPred_w_threshold==1)&(labelActual==1))\n",
    "FP = sum((labelPred_w_threshold==1)&(labelActual==0))\n",
    "FN = sum((labelPred_w_threshold==0)&(labelActual==1))\n",
    "TN = sum((labelPred_w_threshold==0)&(labelActual==0))\n",
    "\n",
    "#compute precision, accuracy and recall\n",
    "Prec= 100.0 * TP/(TP+FP)\n",
    "Acc = 100.0 * (TP+TN)/(TP+TN+FP+FN)\n",
    "Rec = 100.0 * TP/(TP+FN)\n",
    "print('Precision = %.2f%%\\nAccuracy = %.2f%%\\nRecall = %.2f%%'%(Prec,Acc,Rec))"
   ]
  },
  {
   "cell_type": "markdown",
   "metadata": {},
   "source": [
    "## SVM Model \n",
    "### - not implimenting this, takes way too long to fit, takes many, MANY hours to actually tune hyperparameters"
   ]
  },
  {
   "cell_type": "code",
   "execution_count": null,
   "metadata": {
    "collapsed": false
   },
   "outputs": [],
   "source": [
    "#parameters = {'kernel':('linear', 'rbf'), 'C':[1, 5]}\n",
    "#svr = svm.SVC()\n",
    "#clf = GridSearchCV(svr, parameters)\n",
    "#svr_optimum = svr.fit(X_train, y_train)"
   ]
  },
  {
   "cell_type": "code",
   "execution_count": null,
   "metadata": {
    "collapsed": true
   },
   "outputs": [],
   "source": [
    "#parameters = {'kernel':('linear', 'rbf'), 'C':[1, 500, 1000, 10000]}\n",
    "#svr = svm.SVC()\n",
    "#clf = GridSearchCV(svr, parameters)\n",
    "#svr_optimum = clf.fit(X_train, y_train)"
   ]
  },
  {
   "cell_type": "markdown",
   "metadata": {},
   "source": [
    "### SVM - Accuracy"
   ]
  },
  {
   "cell_type": "code",
   "execution_count": null,
   "metadata": {
    "collapsed": true
   },
   "outputs": [],
   "source": [
    "#apply to the validation sample\n",
    "#labelPred = svr_optimum.predict(X_test)\n",
    "#labelActual = y_test\n",
    "#X_test_copy['SVM_predict'] = svr_optimum.predict(X_test)"
   ]
  },
  {
   "cell_type": "markdown",
   "metadata": {},
   "source": [
    "#### look at precision / accuracy / recall"
   ]
  },
  {
   "cell_type": "code",
   "execution_count": null,
   "metadata": {
    "collapsed": false
   },
   "outputs": [],
   "source": [
    "'''\n",
    "#compute TP,FP,FN,TN for the above classification\n",
    "TP = sum((labelPred==1)&(labelActual==1))\n",
    "FP = sum((labelPred==1)&(labelActual==0))\n",
    "FN = sum((labelPred==0)&(labelActual==1))\n",
    "TN = sum((labelPred==0)&(labelActual==0))\n",
    "\n",
    "#compute precision, accuracy and recall\n",
    "Prec= 100.0 * TP/(TP+FP)\n",
    "Acc = 100.0 * (TP+TN)/(TP+TN+FP+FN)\n",
    "Rec = 100.0 * TP/(TP+FN)\n",
    "print('Precision = %.2f%%\\nAccuracy = %.2f%%\\nRecall = %.2f%%'%(Prec,Acc,Rec))\n",
    "'''"
   ]
  },
  {
   "cell_type": "markdown",
   "metadata": {},
   "source": [
    "#### look at auc"
   ]
  },
  {
   "cell_type": "code",
   "execution_count": null,
   "metadata": {
    "collapsed": false
   },
   "outputs": [],
   "source": [
    "'''\n",
    "res=[]\n",
    "for i in range(1,20):\n",
    "    X_train, X_test, y_train, y_test = train_test_split(X, y, test_size = 0.3, random_state = i)\n",
    "    pred=svr_optimum.predict(X_test)\n",
    "    res.append(rs(np.array(y_test.apply(int)),pred))\n",
    "    #print rs(np.array(y_test.apply(int)),pred)\n",
    "print np.mean(res)\n",
    "'''"
   ]
  },
  {
   "cell_type": "markdown",
   "metadata": {},
   "source": [
    "## Apply models to full dataset"
   ]
  },
  {
   "cell_type": "code",
   "execution_count": null,
   "metadata": {
    "collapsed": false
   },
   "outputs": [],
   "source": [
    "# apply to full dataset\n",
    "dlba_school_df_full_small_copy = dlba_school_df_full_small.copy()\n",
    "dlba_school_df_full_small_X = dlba_school_df_full_small_copy.iloc[:,3:]\n",
    "dlba_school_df_full_small['r_tree_predict'] = r_tree_tuned.predict(dlba_school_df_full_small_X)\n",
    "dlba_school_df_full_small['r_tree_predict_continuous'] = r_tree_tuned.predict_proba(dlba_school_df_full_small_X)[:,1]"
   ]
  },
  {
   "cell_type": "code",
   "execution_count": null,
   "metadata": {
    "collapsed": false
   },
   "outputs": [],
   "source": [
    "dlba_school_df_full_small.head(20)"
   ]
  },
  {
   "cell_type": "code",
   "execution_count": null,
   "metadata": {
    "collapsed": false
   },
   "outputs": [],
   "source": [
    "### find addresses of interest\n",
    "#dlba_school_df_full_small[dlba_school_df_full_small.Account_Name.str.contains(\"Parkland\")]"
   ]
  },
  {
   "cell_type": "markdown",
   "metadata": {
    "collapsed": true
   },
   "source": [
    "## Export final dataset as csv"
   ]
  },
  {
   "cell_type": "code",
   "execution_count": null,
   "metadata": {
    "collapsed": true
   },
   "outputs": [],
   "source": [
    "dlba_school_df_full_small.to_csv(\"/Users/geoffperrin/Desktop/DLBA/demo_project/output/final_demo_prediction_022217.csv\")"
   ]
  }
 ],
 "metadata": {
  "anaconda-cloud": {},
  "kernelspec": {
   "display_name": "Python [Root]",
   "language": "python",
   "name": "Python [Root]"
  },
  "language_info": {
   "codemirror_mode": {
    "name": "ipython",
    "version": 2
   },
   "file_extension": ".py",
   "mimetype": "text/x-python",
   "name": "python",
   "nbconvert_exporter": "python",
   "pygments_lexer": "ipython2",
   "version": "2.7.12"
  }
 },
 "nbformat": 4,
 "nbformat_minor": 0
}
